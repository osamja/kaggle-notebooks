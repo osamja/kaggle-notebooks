{
 "cells": [
  {
   "attachments": {},
   "cell_type": "markdown",
   "metadata": {},
   "source": [
    "# Digit Recognizer\n",
    "https://www.kaggle.com/competitions/digit-recognizer/overview"
   ]
  },
  {
   "cell_type": "code",
   "execution_count": 171,
   "metadata": {},
   "outputs": [],
   "source": [
    "import pandas as pd\n",
    "import matplotlib.pyplot as plt\n",
    "import numpy as np\n",
    "import torch\n",
    "import torch.nn.functional as F"
   ]
  },
  {
   "cell_type": "code",
   "execution_count": 172,
   "metadata": {},
   "outputs": [],
   "source": [
    "# Read the CSV digit recognizer train csv file\n",
    "train = pd.read_csv('datasets/digit-recognizer/train.csv')\n",
    "test = pd.read_csv('datasets/digit-recognizer/test.csv')"
   ]
  },
  {
   "cell_type": "code",
   "execution_count": 173,
   "metadata": {},
   "outputs": [
    {
     "data": {
      "text/html": [
       "<div>\n",
       "<style scoped>\n",
       "    .dataframe tbody tr th:only-of-type {\n",
       "        vertical-align: middle;\n",
       "    }\n",
       "\n",
       "    .dataframe tbody tr th {\n",
       "        vertical-align: top;\n",
       "    }\n",
       "\n",
       "    .dataframe thead th {\n",
       "        text-align: right;\n",
       "    }\n",
       "</style>\n",
       "<table border=\"1\" class=\"dataframe\">\n",
       "  <thead>\n",
       "    <tr style=\"text-align: right;\">\n",
       "      <th></th>\n",
       "      <th>label</th>\n",
       "      <th>pixel0</th>\n",
       "      <th>pixel1</th>\n",
       "      <th>pixel2</th>\n",
       "      <th>pixel3</th>\n",
       "      <th>pixel4</th>\n",
       "      <th>pixel5</th>\n",
       "      <th>pixel6</th>\n",
       "      <th>pixel7</th>\n",
       "      <th>pixel8</th>\n",
       "      <th>...</th>\n",
       "      <th>pixel774</th>\n",
       "      <th>pixel775</th>\n",
       "      <th>pixel776</th>\n",
       "      <th>pixel777</th>\n",
       "      <th>pixel778</th>\n",
       "      <th>pixel779</th>\n",
       "      <th>pixel780</th>\n",
       "      <th>pixel781</th>\n",
       "      <th>pixel782</th>\n",
       "      <th>pixel783</th>\n",
       "    </tr>\n",
       "  </thead>\n",
       "  <tbody>\n",
       "    <tr>\n",
       "      <th>0</th>\n",
       "      <td>1</td>\n",
       "      <td>0</td>\n",
       "      <td>0</td>\n",
       "      <td>0</td>\n",
       "      <td>0</td>\n",
       "      <td>0</td>\n",
       "      <td>0</td>\n",
       "      <td>0</td>\n",
       "      <td>0</td>\n",
       "      <td>0</td>\n",
       "      <td>...</td>\n",
       "      <td>0</td>\n",
       "      <td>0</td>\n",
       "      <td>0</td>\n",
       "      <td>0</td>\n",
       "      <td>0</td>\n",
       "      <td>0</td>\n",
       "      <td>0</td>\n",
       "      <td>0</td>\n",
       "      <td>0</td>\n",
       "      <td>0</td>\n",
       "    </tr>\n",
       "    <tr>\n",
       "      <th>1</th>\n",
       "      <td>0</td>\n",
       "      <td>0</td>\n",
       "      <td>0</td>\n",
       "      <td>0</td>\n",
       "      <td>0</td>\n",
       "      <td>0</td>\n",
       "      <td>0</td>\n",
       "      <td>0</td>\n",
       "      <td>0</td>\n",
       "      <td>0</td>\n",
       "      <td>...</td>\n",
       "      <td>0</td>\n",
       "      <td>0</td>\n",
       "      <td>0</td>\n",
       "      <td>0</td>\n",
       "      <td>0</td>\n",
       "      <td>0</td>\n",
       "      <td>0</td>\n",
       "      <td>0</td>\n",
       "      <td>0</td>\n",
       "      <td>0</td>\n",
       "    </tr>\n",
       "    <tr>\n",
       "      <th>2</th>\n",
       "      <td>1</td>\n",
       "      <td>0</td>\n",
       "      <td>0</td>\n",
       "      <td>0</td>\n",
       "      <td>0</td>\n",
       "      <td>0</td>\n",
       "      <td>0</td>\n",
       "      <td>0</td>\n",
       "      <td>0</td>\n",
       "      <td>0</td>\n",
       "      <td>...</td>\n",
       "      <td>0</td>\n",
       "      <td>0</td>\n",
       "      <td>0</td>\n",
       "      <td>0</td>\n",
       "      <td>0</td>\n",
       "      <td>0</td>\n",
       "      <td>0</td>\n",
       "      <td>0</td>\n",
       "      <td>0</td>\n",
       "      <td>0</td>\n",
       "    </tr>\n",
       "    <tr>\n",
       "      <th>3</th>\n",
       "      <td>4</td>\n",
       "      <td>0</td>\n",
       "      <td>0</td>\n",
       "      <td>0</td>\n",
       "      <td>0</td>\n",
       "      <td>0</td>\n",
       "      <td>0</td>\n",
       "      <td>0</td>\n",
       "      <td>0</td>\n",
       "      <td>0</td>\n",
       "      <td>...</td>\n",
       "      <td>0</td>\n",
       "      <td>0</td>\n",
       "      <td>0</td>\n",
       "      <td>0</td>\n",
       "      <td>0</td>\n",
       "      <td>0</td>\n",
       "      <td>0</td>\n",
       "      <td>0</td>\n",
       "      <td>0</td>\n",
       "      <td>0</td>\n",
       "    </tr>\n",
       "    <tr>\n",
       "      <th>4</th>\n",
       "      <td>0</td>\n",
       "      <td>0</td>\n",
       "      <td>0</td>\n",
       "      <td>0</td>\n",
       "      <td>0</td>\n",
       "      <td>0</td>\n",
       "      <td>0</td>\n",
       "      <td>0</td>\n",
       "      <td>0</td>\n",
       "      <td>0</td>\n",
       "      <td>...</td>\n",
       "      <td>0</td>\n",
       "      <td>0</td>\n",
       "      <td>0</td>\n",
       "      <td>0</td>\n",
       "      <td>0</td>\n",
       "      <td>0</td>\n",
       "      <td>0</td>\n",
       "      <td>0</td>\n",
       "      <td>0</td>\n",
       "      <td>0</td>\n",
       "    </tr>\n",
       "  </tbody>\n",
       "</table>\n",
       "<p>5 rows × 785 columns</p>\n",
       "</div>"
      ],
      "text/plain": [
       "   label  pixel0  pixel1  pixel2  pixel3  pixel4  pixel5  pixel6  pixel7  \\\n",
       "0      1       0       0       0       0       0       0       0       0   \n",
       "1      0       0       0       0       0       0       0       0       0   \n",
       "2      1       0       0       0       0       0       0       0       0   \n",
       "3      4       0       0       0       0       0       0       0       0   \n",
       "4      0       0       0       0       0       0       0       0       0   \n",
       "\n",
       "   pixel8  ...  pixel774  pixel775  pixel776  pixel777  pixel778  pixel779  \\\n",
       "0       0  ...         0         0         0         0         0         0   \n",
       "1       0  ...         0         0         0         0         0         0   \n",
       "2       0  ...         0         0         0         0         0         0   \n",
       "3       0  ...         0         0         0         0         0         0   \n",
       "4       0  ...         0         0         0         0         0         0   \n",
       "\n",
       "   pixel780  pixel781  pixel782  pixel783  \n",
       "0         0         0         0         0  \n",
       "1         0         0         0         0  \n",
       "2         0         0         0         0  \n",
       "3         0         0         0         0  \n",
       "4         0         0         0         0  \n",
       "\n",
       "[5 rows x 785 columns]"
      ]
     },
     "execution_count": 173,
     "metadata": {},
     "output_type": "execute_result"
    }
   ],
   "source": [
    "train.head()"
   ]
  },
  {
   "cell_type": "code",
   "execution_count": 174,
   "metadata": {},
   "outputs": [
    {
     "data": {
      "text/plain": [
       "(42000, 785)"
      ]
     },
     "execution_count": 174,
     "metadata": {},
     "output_type": "execute_result"
    }
   ],
   "source": [
    "train.shape"
   ]
  },
  {
   "cell_type": "code",
   "execution_count": 175,
   "metadata": {},
   "outputs": [
    {
     "data": {
      "text/plain": [
       "<matplotlib.image.AxesImage at 0x7f7d28de25b0>"
      ]
     },
     "execution_count": 175,
     "metadata": {},
     "output_type": "execute_result"
    },
    {
     "data": {
      "image/png": "[encoded data removed]",
      "text/plain": [
       "<Figure size 640x480 with 1 Axes>"
      ]
     },
     "metadata": {},
     "output_type": "display_data"
    }
   ],
   "source": [
    "# let's plot the first image in train\n",
    "\n",
    "\n",
    "# reshape the image to 28x28\n",
    "image = np.array(train.iloc[7, 1:]).reshape(28, 28)\n",
    "\n",
    "# let's plot the first image in train\n",
    "plt.imshow(image, cmap='gray')"
   ]
  },
  {
   "cell_type": "code",
   "execution_count": 176,
   "metadata": {},
   "outputs": [
    {
     "data": {
      "text/plain": [
       "<AxesSubplot:>"
      ]
     },
     "execution_count": 176,
     "metadata": {},
     "output_type": "execute_result"
    },
    {
     "data": {
      "image/png": "[encoded data removed]",
      "text/plain": [
       "<Figure size 640x480 with 1 Axes>"
      ]
     },
     "metadata": {},
     "output_type": "display_data"
    }
   ],
   "source": [
    "# plot the value counts of the labels\n",
    "train['label'].value_counts().plot(kind='bar')"
   ]
  },
  {
   "cell_type": "code",
   "execution_count": 177,
   "metadata": {},
   "outputs": [],
   "source": [
    "labels = train['label']\n",
    "features = train.drop('label', axis=1)"
   ]
  },
  {
   "cell_type": "code",
   "execution_count": 178,
   "metadata": {},
   "outputs": [],
   "source": [
    "features = torch.tensor(features.values, dtype=torch.float32)\n",
    "labels = torch.tensor(labels.values, dtype=torch.int64)"
   ]
  },
  {
   "cell_type": "code",
   "execution_count": 179,
   "metadata": {},
   "outputs": [],
   "source": [
    "# create a validation set\n",
    "num_training = 30000\n",
    "train_features, val_features = features[:num_training], features[num_training:]\n",
    "train_labels, val_labels = labels[:num_training], labels[num_training:]"
   ]
  },
  {
   "cell_type": "code",
   "execution_count": 180,
   "metadata": {},
   "outputs": [
    {
     "data": {
      "text/plain": [
       "(torch.Size([30000, 784]), torch.Size([30000]))"
      ]
     },
     "execution_count": 180,
     "metadata": {},
     "output_type": "execute_result"
    }
   ],
   "source": [
    "train_features.shape, train_labels.shape"
   ]
  },
  {
   "cell_type": "code",
   "execution_count": 181,
   "metadata": {},
   "outputs": [],
   "source": [
    "# create a small MLP model\n",
    "\n",
    "num_features = 784\n",
    "num_classes = 10\n",
    "num_neurons = 32\n",
    "\n",
    "model = torch.nn.Sequential(\n",
    "    torch.nn.Linear(num_features, num_neurons),\n",
    "    torch.nn.Tanh(),\n",
    "    torch.nn.Linear(num_neurons, num_classes)\n",
    ")"
   ]
  },
  {
   "cell_type": "code",
   "execution_count": 182,
   "metadata": {},
   "outputs": [],
   "source": [
    "# define the loss function and optimizer\n",
    "criterion = torch.nn.CrossEntropyLoss()\n",
    "optimizer = torch.optim.AdamW(model.parameters(), lr=1e-4)\n",
    "losses = []\n",
    "num_iters = 100\n",
    "\n",
    "# train the model\n",
    "for i in range(num_iters):\n",
    "    # zero the parameter gradients\n",
    "    optimizer.zero_grad()\n",
    "\n",
    "    # generate a random batch\n",
    "    batch_size = 32\n",
    "    batch_indices = np.random.choice(num_training, batch_size)\n",
    "    train_features_batch = train_features[batch_indices]\n",
    "    train_labels_batch = train_labels[batch_indices]\n",
    "\n",
    "    # print(f'train_features_batch.shape: {train_features_batch.shape}')\n",
    "\n",
    "    # forward + backward + optimize\n",
    "    x = train_features_batch\n",
    "    for layer in model:\n",
    "        x = layer(x)\n",
    "    \n",
    "    loss = criterion(x, train_labels_batch)\n",
    "    loss.backward()\n",
    "    optimizer.step()\n",
    "\n",
    "    losses.append(loss.item())\n",
    "\n",
    "    # break   # remove this line to train the model\n"
   ]
  },
  {
   "cell_type": "code",
   "execution_count": 183,
   "metadata": {},
   "outputs": [
    {
     "data": {
      "text/plain": [
       "[<matplotlib.lines.Line2D at 0x7f7d5976da00>]"
      ]
     },
     "execution_count": 183,
     "metadata": {},
     "output_type": "execute_result"
    },
    {
     "data": {
      "image/png": "[encoded data removed]",
      "text/plain": [
       "<Figure size 640x480 with 1 Axes>"
      ]
     },
     "metadata": {},
     "output_type": "display_data"
    }
   ],
   "source": [
    "# plot the loss\n",
    "num_batch_to_avg = 10\n",
    "plt.plot(torch.tensor(losses).view(-1, num_batch_to_avg).mean(1))"
   ]
  },
  {
   "cell_type": "code",
   "execution_count": 184,
   "metadata": {},
   "outputs": [
    {
     "name": "stdout",
     "output_type": "stream",
     "text": [
      "Validation accuracy: 0.29\n",
      "Training accuracy: 0.29\n"
     ]
    }
   ],
   "source": [
    "# set the model to evaluation mode\n",
    "model.eval()\n",
    "\n",
    "# evaluate the model on the validation set\n",
    "x = val_features\n",
    "for layer in model:\n",
    "    x = layer(x)\n",
    "val_outputs = x\n",
    "\n",
    "# get the predictions\n",
    "_, val_preds = torch.max(val_outputs, 1)\n",
    "\n",
    "# calculate the accuracy\n",
    "accuracy = (val_preds == val_labels).sum().item() / val_labels.shape[0]\n",
    "\n",
    "print('Validation accuracy: %.2f' % accuracy)\n",
    "\n",
    "# evaluate the model on the training set\n",
    "x = train_features\n",
    "for layer in model:\n",
    "    x = layer(x)\n",
    "train_outputs = x\n",
    "\n",
    "# get the predictions\n",
    "_, train_preds = torch.max(train_outputs, 1)\n",
    "\n",
    "# calculate the accuracy\n",
    "accuracy = (train_preds == train_labels).sum().item() / train_labels.shape[0]\n",
    "\n",
    "print('Training accuracy: %.2f' % accuracy)"
   ]
  },
  {
   "cell_type": "code",
   "execution_count": 185,
   "metadata": {},
   "outputs": [
    {
     "name": "stdout",
     "output_type": "stream",
     "text": [
      "Predicted label: 6\n",
      "\n",
      "\n"
     ]
    },
    {
     "data": {
      "image/png": "[encoded data removed]",
      "text/plain": [
       "<Figure size 640x480 with 1 Axes>"
      ]
     },
     "metadata": {},
     "output_type": "display_data"
    }
   ],
   "source": [
    "# Let's evaluate the model on the first image of the test set\n",
    "test_image = test.iloc[0, :].values.reshape(28, 28)\n",
    "plt.imshow(test_image, cmap='gray')\n",
    "expected_test_image_label = 2\n",
    "\n",
    "# convert the test image to a tensor\n",
    "test_image = test_image.reshape(1, -1)\n",
    "test_image_tensor = torch.tensor(test_image, dtype=torch.float32)\n",
    "\n",
    "# evaluate the model on the test image\n",
    "x = test_image_tensor\n",
    "for layer in model:\n",
    "    x = layer(x)\n",
    "\n",
    "print(f'Predicted label: {torch.max(x, 1).indices.item()}')\n",
    "print('\\n')\n",
    "\n",
    "predicted_label = torch.max(x, 1).indices.item()\n",
    "\n",
    "# get the prediction\n",
    "_, test_image_pred = torch.max(x, 0)\n",
    "\n",
    "# _, test_image_pred\n",
    "# print('Expected label: %d, predicted label: %d' % (expected_test_image_label, test_image_pred))"
   ]
  },
  {
   "attachments": {},
   "cell_type": "markdown",
   "metadata": {},
   "source": [
    "holy crap this is actually working wow. lol only took a couple minutes of work  :D"
   ]
  },
  {
   "cell_type": "code",
   "execution_count": 186,
   "metadata": {},
   "outputs": [
    {
     "name": "stdout",
     "output_type": "stream",
     "text": [
      "Predicted label: 0\n",
      "\n",
      "\n"
     ]
    },
    {
     "data": {
      "image/png": "[encoded data removed]",
      "text/plain": [
       "<Figure size 640x480 with 1 Axes>"
      ]
     },
     "metadata": {},
     "output_type": "display_data"
    }
   ],
   "source": [
    "# Let's evaluate the model on the second image of the test set\n",
    "test_image = test.iloc[1, :].values.reshape(28, 28)\n",
    "plt.imshow(test_image, cmap='gray')\n",
    "expected_test_image_label = 0\n",
    "\n",
    "# convert the test image to a tensor\n",
    "test_image = test_image.reshape(1, -1)\n",
    "test_image_tensor = torch.tensor(test_image, dtype=torch.float32)\n",
    "\n",
    "# evaluate the model on the test image\n",
    "x = test_image_tensor\n",
    "for layer in model:\n",
    "    x = layer(x)\n",
    "\n",
    "print(f'Predicted label: {torch.max(x, 1).indices.item()}')\n",
    "print('\\n')\n",
    "\n",
    "predicted_label = torch.max(x, 1).indices.item()\n",
    "\n",
    "# get the prediction\n",
    "_, test_image_pred = torch.max(x, 0)\n",
    "\n",
    "# _, test_image_pred\n",
    "# print('Expected label: %d, predicted label: %d' % (expected_test_image_label, test_image_pred))"
   ]
  },
  {
   "cell_type": "code",
   "execution_count": 187,
   "metadata": {},
   "outputs": [
    {
     "name": "stdout",
     "output_type": "stream",
     "text": [
      "Predicted label: 0\n",
      "\n",
      "\n"
     ]
    },
    {
     "data": {
      "image/png": "[encoded data removed]",
      "text/plain": [
       "<Figure size 640x480 with 1 Axes>"
      ]
     },
     "metadata": {},
     "output_type": "display_data"
    }
   ],
   "source": [
    "# Let's evaluate the model on the first image of the test set\n",
    "test_image = test.iloc[2, :].values.reshape(28, 28)\n",
    "plt.imshow(test_image, cmap='gray')\n",
    "expected_test_image_label = 9\n",
    "\n",
    "# convert the test image to a tensor\n",
    "test_image = test_image.reshape(1, -1)\n",
    "test_image_tensor = torch.tensor(test_image, dtype=torch.float32)\n",
    "\n",
    "# evaluate the model on the test image\n",
    "x = test_image_tensor\n",
    "for layer in model:\n",
    "    x = layer(x)\n",
    "\n",
    "print(f'Predicted label: {torch.max(x, 1).indices.item()}')\n",
    "print('\\n')\n",
    "\n",
    "predicted_label = torch.max(x, 1).indices.item()\n",
    "\n",
    "# get the prediction\n",
    "_, test_image_pred = torch.max(x, 0)\n",
    "\n",
    "# _, test_image_pred\n",
    "# print('Expected label: %d, predicted label: %d' % (expected_test_image_label, test_image_pred))"
   ]
  },
  {
   "cell_type": "code",
   "execution_count": 188,
   "metadata": {},
   "outputs": [],
   "source": [
    "# Let's put the model in training mode again\n",
    "model.train()\n",
    "\n",
    "# Let's train the model on the entire training set\n",
    "# define the loss function and optimizer\n",
    "criterion = torch.nn.CrossEntropyLoss()\n",
    "optimizer = torch.optim.AdamW(model.parameters(), lr=1e-4)\n",
    "losses = []\n",
    "num_iters = 100\n",
    "\n",
    "# train the model\n",
    "for i in range(num_iters):\n",
    "    # zero the parameter gradients\n",
    "    optimizer.zero_grad()\n",
    "\n",
    "    # generate a random batch\n",
    "    batch_size = 32\n",
    "    batch_indices = np.random.choice(features.shape[0]-1, batch_size)\n",
    "    features_batch = features[batch_indices]\n",
    "    labels_batch = labels[batch_indices]\n",
    "\n",
    "    # forward + backward + optimize\n",
    "    x = features_batch\n",
    "    for layer in model:\n",
    "        x = layer(x)\n",
    "    \n",
    "    loss = criterion(x, labels_batch)\n",
    "    loss.backward()\n",
    "    optimizer.step()\n",
    "\n",
    "    losses.append(loss.item())\n"
   ]
  },
  {
   "cell_type": "code",
   "execution_count": 189,
   "metadata": {},
   "outputs": [],
   "source": [
    "# Put the model in evaluation mode\n",
    "model.eval()\n",
    "\n",
    "# evaluate the model on the test set\n",
    "\n",
    "# test.head()\n",
    "\n",
    "x = torch.tensor(test.values, dtype=torch.float32)\n",
    "\n",
    "for layer in model:\n",
    "    x = layer(x)\n",
    "\n",
    "# get the predictions\n",
    "_, test_preds = torch.max(x, 1)\n",
    "\n",
    "# create the submission file\n",
    "submission = pd.DataFrame({'ImageId': range(1, test_preds.shape[0]+1), 'Label': test_preds})\n",
    "submission.to_csv('digit-recognition-submission.csv', index=False)\n"
   ]
  },
  {
   "cell_type": "code",
   "execution_count": null,
   "metadata": {},
   "outputs": [],
   "source": []
  },
  {
   "attachments": {},
   "cell_type": "markdown",
   "metadata": {},
   "source": [
    "# Convolutional Neural Network\n",
    "- Let's try using a convolutional neural network to classify the digits instead of a simple MLP neural network\n",
    "- With an MLP, we were able to achieve a 91% accuracy on the test set"
   ]
  },
  {
   "cell_type": "code",
   "execution_count": 190,
   "metadata": {},
   "outputs": [
    {
     "name": "stdout",
     "output_type": "stream",
     "text": [
      "torch.Size([30000, 1, 28, 28]) torch.Size([30000])\n"
     ]
    }
   ],
   "source": [
    "# unflatten the images for the convolution\n",
    "train_features = train_features.view(train_features.shape[0], 1, 28, 28)\n",
    "\n",
    "print(train_features.shape, train_labels.shape)"
   ]
  },
  {
   "cell_type": "code",
   "execution_count": 191,
   "metadata": {},
   "outputs": [],
   "source": [
    "# model using convolutions\n",
    "model = torch.nn.Sequential(\n",
    "    torch.nn.Conv2d(1, 32, kernel_size=3, padding=1),\n",
    "    torch.nn.ReLU(),\n",
    "    torch.nn.Conv2d(32, 32, kernel_size=3, padding=1),\n",
    "    torch.nn.ReLU(),\n",
    "    torch.nn.MaxPool2d(2),\n",
    "    torch.nn.Dropout(0.25),\n",
    "    torch.nn.Flatten(),\n",
    "    torch.nn.Linear(32*14*14, 128),\n",
    "    torch.nn.ReLU(),\n",
    "    torch.nn.Dropout(0.5),\n",
    "    torch.nn.Linear(128, 10)\n",
    ")"
   ]
  },
  {
   "cell_type": "code",
   "execution_count": 192,
   "metadata": {},
   "outputs": [
    {
     "name": "stdout",
     "output_type": "stream",
     "text": [
      "torch.Size([2, 1, 28, 28])\n",
      "torch.Size([2, 1, 28, 28])\n",
      "Conv2d torch.Size([2, 32, 28, 28])\n",
      "ReLU torch.Size([2, 32, 28, 28])\n",
      "Conv2d torch.Size([2, 32, 28, 28])\n",
      "ReLU torch.Size([2, 32, 28, 28])\n",
      "MaxPool2d torch.Size([2, 32, 14, 14])\n",
      "Dropout torch.Size([2, 32, 14, 14])\n",
      "Flatten torch.Size([2, 6272])\n",
      "Linear torch.Size([2, 128])\n",
      "ReLU torch.Size([2, 128])\n",
      "Dropout torch.Size([2, 128])\n",
      "Linear torch.Size([2, 10])\n",
      "tensor([[  4.4158,  -6.1268,  12.9944,   9.6315,   4.4046,  -7.0994,   1.3950,\n",
      "           1.6869,   0.2352,   6.4379],\n",
      "        [  2.6201, -11.8283,   1.7669,   8.4399,  -1.2597,  -1.8093,   0.1074,\n",
      "           1.8927,   5.6209,   1.2397]], grad_fn=<AddmmBackward0>)\n",
      "torch.return_types.max(\n",
      "values=tensor([12.9944,  8.4399], grad_fn=<MaxBackward0>),\n",
      "indices=tensor([2, 3]))\n"
     ]
    }
   ],
   "source": [
    "ex_train_images = train_features[1:3].view(-1, 1, 28, 28)\n",
    "print(ex_train_images.shape)\n",
    "x = ex_train_images\n",
    "print(x.shape)\n",
    "for layer in model:\n",
    "    x = layer(x)\n",
    "    print(layer.__class__.__name__, x.shape)\n",
    "\n",
    "print(x)\n",
    "print(torch.max(x, 1))\n"
   ]
  },
  {
   "cell_type": "code",
   "execution_count": 193,
   "metadata": {},
   "outputs": [
    {
     "name": "stdout",
     "output_type": "stream",
     "text": [
      "Model predictions: tensor([2, 3])\n",
      "First prediction: 2\n"
     ]
    }
   ],
   "source": [
    "model_predictions = torch.max(x, 1).indices\n",
    "print(f'Model predictions: {model_predictions}')\n",
    "\n",
    "first_prediction = model_predictions[0]\n",
    "print(f'First prediction: {first_prediction}')"
   ]
  },
  {
   "cell_type": "code",
   "execution_count": 194,
   "metadata": {},
   "outputs": [],
   "source": [
    "# train model on training set only\n",
    "model.train()\n",
    "\n",
    "criterion = torch.nn.CrossEntropyLoss()\n",
    "optimizer = torch.optim.AdamW(model.parameters(), lr=1e-4)\n",
    "losses = []\n",
    "num_iters = 100\n",
    "\n",
    "# train the model\n",
    "for i in range(num_iters):\n",
    "    # zero the parameter gradients\n",
    "    optimizer.zero_grad()\n",
    "\n",
    "    # generate a random batch\n",
    "    batch_size = 32\n",
    "    batch_indices = np.random.choice(train_features.shape[0]-1, batch_size)\n",
    "    features_batch = train_features[batch_indices]\n",
    "    labels_batch = train_labels[batch_indices]\n",
    "\n",
    "    # forward + backward + optimize\n",
    "    x = features_batch\n",
    "    for layer in model:\n",
    "        x = layer(x)\n",
    "\n",
    "    loss = criterion(x, labels_batch)\n",
    "    losses.append(loss)\n",
    "    loss.backward()\n",
    "    optimizer.step()\n",
    "\n",
    "    losses.append(loss.item())\n",
    "\n",
    "    # break\n"
   ]
  },
  {
   "cell_type": "code",
   "execution_count": 195,
   "metadata": {},
   "outputs": [
    {
     "name": "stdout",
     "output_type": "stream",
     "text": [
      "torch.Size([1, 10])\n",
      "Predicted label: tensor([3])\n"
     ]
    },
    {
     "data": {
      "image/png": "[encoded data removed]",
      "text/plain": [
       "<Figure size 640x480 with 1 Axes>"
      ]
     },
     "metadata": {},
     "output_type": "display_data"
    }
   ],
   "source": [
    "# let's visually test our model on a few images\n",
    "\n",
    "img1 = train_features[9].view(28, 28)\n",
    "\n",
    "img1.shape\n",
    "\n",
    "plt.imshow(img1)    # Expected label\n",
    "\n",
    "x = img1.view(1, 1, 28, 28)\n",
    "for layer in model:\n",
    "    x = layer(x)\n",
    "\n",
    "print(x.shape)\n",
    "predicted = torch.max(x, 1)\n",
    "print(f'Predicted label: {predicted.indices}')\n"
   ]
  },
  {
   "attachments": {},
   "cell_type": "markdown",
   "metadata": {},
   "source": [
    "ok the model seems to do well when I manually tested it on a few images, let's measure its validation accuracy"
   ]
  },
  {
   "cell_type": "code",
   "execution_count": 196,
   "metadata": {},
   "outputs": [
    {
     "name": "stdout",
     "output_type": "stream",
     "text": [
      "Validation accuracy: 0.85\n",
      "Training accuracy: 0.85\n"
     ]
    }
   ],
   "source": [
    "# Evaluate the model on the validation set\n",
    "# set the model to evaluation mode\n",
    "model.eval()\n",
    "\n",
    "val_features = val_features.view(-1, 1, 28, 28)\n",
    "\n",
    "# evaluate the model on the validation set\n",
    "x = val_features\n",
    "for layer in model:\n",
    "    x = layer(x)\n",
    "val_outputs = x\n",
    "\n",
    "# get the predictions\n",
    "_, val_preds = torch.max(val_outputs, 1)\n",
    "\n",
    "# calculate the accuracy\n",
    "accuracy = (val_preds == val_labels).sum().item() / val_labels.shape[0]\n",
    "\n",
    "print('Validation accuracy: %.2f' % accuracy)\n",
    "\n",
    "# evaluate the model on the training set\n",
    "x = train_features\n",
    "for layer in model:\n",
    "    x = layer(x)\n",
    "train_outputs = x\n",
    "\n",
    "# get the predictions\n",
    "_, train_preds = torch.max(train_outputs, 1)\n",
    "\n",
    "# calculate the accuracy\n",
    "accuracy = (train_preds == train_labels).sum().item() / train_labels.shape[0]\n",
    "\n",
    "print('Training accuracy: %.2f' % accuracy)"
   ]
  },
  {
   "attachments": {},
   "cell_type": "markdown",
   "metadata": {},
   "source": [
    "Validation accuracy: 0.97\n",
    "Training accuracy: 0.98\n",
    "\n",
    "ok wow, I guess CNNs do work :D  Time to train this model on the entire training set and then make predictions on the test set"
   ]
  },
  {
   "cell_type": "code",
   "execution_count": 197,
   "metadata": {},
   "outputs": [
    {
     "data": {
      "text/plain": [
       "(torch.Size([42000, 1, 28, 28]), torch.Size([42000]))"
      ]
     },
     "execution_count": 197,
     "metadata": {},
     "output_type": "execute_result"
    }
   ],
   "source": [
    "features = features.view(-1, 1, 28, 28)\n",
    "features.shape, labels.shape"
   ]
  },
  {
   "cell_type": "code",
   "execution_count": 202,
   "metadata": {},
   "outputs": [
    {
     "name": "stdout",
     "output_type": "stream",
     "text": [
      "Loss: 0.7387006282806396\n",
      "Loss: 0.5714221596717834\n",
      "Loss: 0.7454049587249756\n",
      "Loss: 0.49209538102149963\n",
      "Loss: 0.48433998227119446\n",
      "Loss: 0.14400362968444824\n",
      "Loss: 0.19982841610908508\n",
      "Loss: 0.06586997956037521\n",
      "Loss: 0.1266169548034668\n",
      "Loss: 0.17291375994682312\n",
      "Loss: 0.14423373341560364\n",
      "Loss: 0.1501835137605667\n",
      "Loss: 0.020249122753739357\n",
      "Loss: 0.3436819911003113\n",
      "Loss: 0.046179961413145065\n",
      "Loss: 0.4328920841217041\n",
      "Loss: 0.027121389284729958\n",
      "Loss: 0.033034633845090866\n",
      "Loss: 0.14813999831676483\n",
      "Loss: 0.17702451348304749\n",
      "Loss: 0.04787113890051842\n",
      "Loss: 0.04094350337982178\n",
      "Loss: 0.15767671167850494\n",
      "Loss: 0.038933150470256805\n",
      "Loss: 0.04975980520248413\n",
      "Loss: 0.05985068157315254\n",
      "Loss: 0.14827103912830353\n",
      "Loss: 0.1697242259979248\n",
      "Loss: 0.04677714407444\n",
      "Loss: 0.010043587535619736\n",
      "Loss: 0.04219239205121994\n",
      "Loss: 0.15698543190956116\n",
      "Loss: 0.04667358845472336\n",
      "Loss: 0.0645218938589096\n",
      "Loss: 0.026282303035259247\n",
      "Loss: 0.09759469330310822\n",
      "Loss: 0.026776961982250214\n",
      "Loss: 0.036874473094940186\n",
      "Loss: 0.24356190860271454\n",
      "Loss: 0.008621986024081707\n",
      "Loss: 0.10102085024118423\n",
      "Loss: 0.013211204670369625\n",
      "Loss: 0.002373313996940851\n",
      "Loss: 0.19757023453712463\n",
      "Loss: 0.14520590007305145\n",
      "Loss: 0.06819808483123779\n",
      "Loss: 0.16513292491436005\n",
      "Loss: 0.0120757557451725\n",
      "Loss: 0.041120972484350204\n",
      "Loss: 0.04393516108393669\n",
      "Loss: 0.02088106982409954\n",
      "Loss: 0.005471992772072554\n",
      "Loss: 0.010865851305425167\n",
      "Loss: 0.06107962876558304\n",
      "Loss: 0.0114115746691823\n",
      "Loss: 0.0063363490626215935\n",
      "Loss: 0.016474440693855286\n",
      "Loss: 0.0334748812019825\n",
      "Loss: 0.033713292330503464\n",
      "Loss: 0.001518251490779221\n",
      "Loss: 0.034792426973581314\n",
      "Loss: 0.20931467413902283\n",
      "Loss: 0.01914900913834572\n",
      "Loss: 0.033773042261600494\n",
      "Loss: 0.08995655179023743\n",
      "Loss: 0.00377791584469378\n",
      "Loss: 0.004911291878670454\n",
      "Loss: 0.027130328118801117\n",
      "Loss: 0.00030334159964695573\n",
      "Loss: 0.009000703692436218\n",
      "Loss: 0.007427385542541742\n",
      "Loss: 0.09562180191278458\n",
      "Loss: 0.026181461289525032\n",
      "Loss: 0.06045174226164818\n",
      "Loss: 0.02941976860165596\n",
      "Loss: 0.0051041156984865665\n",
      "Loss: 0.0700981467962265\n",
      "Loss: 0.04771295189857483\n",
      "Loss: 0.004350197501480579\n",
      "Loss: 0.21604734659194946\n",
      "Loss: 0.03389793261885643\n",
      "Loss: 0.0558243989944458\n",
      "Loss: 0.03914507478475571\n",
      "Loss: 0.07658888399600983\n",
      "Loss: 0.014909397810697556\n",
      "Loss: 0.004581919405609369\n",
      "Loss: 0.06787532567977905\n",
      "Loss: 0.02951407991349697\n",
      "Loss: 0.007401675917208195\n",
      "Loss: 0.1412229686975479\n",
      "Loss: 0.036570873111486435\n",
      "Loss: 0.023035988211631775\n",
      "Loss: 0.06207234784960747\n",
      "Loss: 0.1848299354314804\n",
      "Loss: 0.003837516065686941\n",
      "Loss: 0.20383337140083313\n",
      "Loss: 0.016239000484347343\n",
      "Loss: 0.0052717518992722034\n",
      "Loss: 0.13646282255649567\n",
      "Loss: 0.013143160380423069\n"
     ]
    }
   ],
   "source": [
    "# Set model back in train mode and train on all supervised data available\n",
    "model.train()\n",
    "\n",
    "criterion = torch.nn.CrossEntropyLoss()\n",
    "optimizer = torch.optim.AdamW(model.parameters(), lr=1e-4)\n",
    "losses = []\n",
    "num_iters = 10000\n",
    "\n",
    "# train the model\n",
    "for i in range(num_iters):\n",
    "    # zero the parameter gradients\n",
    "    optimizer.zero_grad()\n",
    "\n",
    "    # generate a random batch\n",
    "    batch_size = 32\n",
    "    batch_indices = np.random.choice(features.shape[0]-1, batch_size)\n",
    "    features_batch = features[batch_indices]\n",
    "    labels_batch = labels[batch_indices]\n",
    "\n",
    "    # forward + backward + optimize\n",
    "    x = features_batch\n",
    "    for layer in model:\n",
    "        x = layer(x)\n",
    "\n",
    "    loss = criterion(x, labels_batch)\n",
    "    losses.append(loss)\n",
    "    loss.backward()\n",
    "    optimizer.step()\n",
    "\n",
    "    if i % 100 == 0:\n",
    "        print(f'Loss: {loss.item()}')\n",
    "\n",
    "    losses.append(loss.item())\n",
    "\n",
    "    # break\n"
   ]
  },
  {
   "cell_type": "code",
   "execution_count": 203,
   "metadata": {},
   "outputs": [
    {
     "data": {
      "text/plain": [
       "[<matplotlib.lines.Line2D at 0x7f7d184c1070>]"
      ]
     },
     "execution_count": 203,
     "metadata": {},
     "output_type": "execute_result"
    },
    {
     "data": {
      "image/png": "[encoded data removed]",
      "text/plain": [
       "<Figure size 640x480 with 1 Axes>"
      ]
     },
     "metadata": {},
     "output_type": "display_data"
    }
   ],
   "source": [
    "# Plot the mean loss over a couple batches\n",
    "num_batch_to_avg = 100\n",
    "plt.plot(torch.tensor(losses).view(-1, num_batch_to_avg).mean(1))"
   ]
  },
  {
   "cell_type": "code",
   "execution_count": 204,
   "metadata": {},
   "outputs": [],
   "source": [
    "# test = test.values\n",
    "# test.dtype\n",
    "# test = test.view(-1, 1, 28, 28)\n",
    "\n",
    "test_features = torch.tensor(test.values, dtype=torch.float32)\n",
    "test_features.shape\n",
    "test_features = test_features.view(-1, 1, 28, 28)"
   ]
  },
  {
   "cell_type": "code",
   "execution_count": 205,
   "metadata": {},
   "outputs": [],
   "source": [
    "# Put the model in evaluation mode for the test set\n",
    "model.eval()\n",
    "\n",
    "x = test_features\n",
    "\n",
    "for layer in model:\n",
    "    x = layer(x)\n",
    "\n",
    "# get the predictions\n",
    "_, test_preds = torch.max(x, 1)\n",
    "\n",
    "# create the submission file\n",
    "submission = pd.DataFrame({'ImageId': range(1, test_preds.shape[0]+1), 'Label': test_preds})\n",
    "submission.to_csv('digit-recognition-submission.csv', index=False)\n"
   ]
  },
  {
   "cell_type": "code",
   "execution_count": null,
   "metadata": {},
   "outputs": [],
   "source": []
  }
 ],
 "metadata": {
  "kernelspec": {
   "display_name": "base",
   "language": "python",
   "name": "python3"
  },
  "language_info": {
   "codemirror_mode": {
    "name": "ipython",
    "version": 3
   },
   "file_extension": ".py",
   "mimetype": "text/x-python",
   "name": "python",
   "nbconvert_exporter": "python",
   "pygments_lexer": "ipython3",
   "version": "3.9.13"
  },
  "orig_nbformat": 4
 },
 "nbformat": 4,
 "nbformat_minor": 2
}
