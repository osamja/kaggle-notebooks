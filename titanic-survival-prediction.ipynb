{
 "cells": [
  {
   "attachments": {},
   "cell_type": "markdown",
   "metadata": {},
   "source": [
    "Titanic - Machine Learning from Disaster\n",
    "\n",
    "Start here! Predict survival on the Titanic and get familiar with ML basics\n",
    "\n",
    "https://www.kaggle.com/competitions/titanic/data?select=train.csv\n",
    "\n"
   ]
  },
  {
   "cell_type": "code",
   "execution_count": 2,
   "metadata": {},
   "outputs": [],
   "source": [
    "# Import panda dataframe library\n",
    "import pandas as pd\n",
    "import numpy as np\n",
    "import torch as torch\n",
    "import torch.nn.functional as F\n",
    "import matplotlib.pyplot as plt"
   ]
  },
  {
   "cell_type": "code",
   "execution_count": 3,
   "metadata": {},
   "outputs": [],
   "source": [
    "# Open the train and test datasets to determine which features are available in each dataset\n",
    "train_df = pd.read_csv('datasets/titanic/train.csv')\n",
    "test_df = pd.read_csv('datasets/titanic/test.csv')"
   ]
  },
  {
   "cell_type": "code",
   "execution_count": 4,
   "metadata": {},
   "outputs": [
    {
     "data": {
      "text/html": [
       "<div>\n",
       "<style scoped>\n",
       "    .dataframe tbody tr th:only-of-type {\n",
       "        vertical-align: middle;\n",
       "    }\n",
       "\n",
       "    .dataframe tbody tr th {\n",
       "        vertical-align: top;\n",
       "    }\n",
       "\n",
       "    .dataframe thead th {\n",
       "        text-align: right;\n",
       "    }\n",
       "</style>\n",
       "<table border=\"1\" class=\"dataframe\">\n",
       "  <thead>\n",
       "    <tr style=\"text-align: right;\">\n",
       "      <th></th>\n",
       "      <th>PassengerId</th>\n",
       "      <th>Survived</th>\n",
       "      <th>Pclass</th>\n",
       "      <th>Name</th>\n",
       "      <th>Sex</th>\n",
       "      <th>Age</th>\n",
       "      <th>SibSp</th>\n",
       "      <th>Parch</th>\n",
       "      <th>Ticket</th>\n",
       "      <th>Fare</th>\n",
       "      <th>Cabin</th>\n",
       "      <th>Embarked</th>\n",
       "    </tr>\n",
       "  </thead>\n",
       "  <tbody>\n",
       "    <tr>\n",
       "      <th>0</th>\n",
       "      <td>1</td>\n",
       "      <td>0</td>\n",
       "      <td>3</td>\n",
       "      <td>Braund, Mr. Owen Harris</td>\n",
       "      <td>male</td>\n",
       "      <td>22.0</td>\n",
       "      <td>1</td>\n",
       "      <td>0</td>\n",
       "      <td>A/5 21171</td>\n",
       "      <td>7.2500</td>\n",
       "      <td>NaN</td>\n",
       "      <td>S</td>\n",
       "    </tr>\n",
       "    <tr>\n",
       "      <th>1</th>\n",
       "      <td>2</td>\n",
       "      <td>1</td>\n",
       "      <td>1</td>\n",
       "      <td>Cumings, Mrs. John Bradley (Florence Briggs Th...</td>\n",
       "      <td>female</td>\n",
       "      <td>38.0</td>\n",
       "      <td>1</td>\n",
       "      <td>0</td>\n",
       "      <td>PC 17599</td>\n",
       "      <td>71.2833</td>\n",
       "      <td>C85</td>\n",
       "      <td>C</td>\n",
       "    </tr>\n",
       "    <tr>\n",
       "      <th>2</th>\n",
       "      <td>3</td>\n",
       "      <td>1</td>\n",
       "      <td>3</td>\n",
       "      <td>Heikkinen, Miss. Laina</td>\n",
       "      <td>female</td>\n",
       "      <td>26.0</td>\n",
       "      <td>0</td>\n",
       "      <td>0</td>\n",
       "      <td>STON/O2. 3101282</td>\n",
       "      <td>7.9250</td>\n",
       "      <td>NaN</td>\n",
       "      <td>S</td>\n",
       "    </tr>\n",
       "    <tr>\n",
       "      <th>3</th>\n",
       "      <td>4</td>\n",
       "      <td>1</td>\n",
       "      <td>1</td>\n",
       "      <td>Futrelle, Mrs. Jacques Heath (Lily May Peel)</td>\n",
       "      <td>female</td>\n",
       "      <td>35.0</td>\n",
       "      <td>1</td>\n",
       "      <td>0</td>\n",
       "      <td>113803</td>\n",
       "      <td>53.1000</td>\n",
       "      <td>C123</td>\n",
       "      <td>S</td>\n",
       "    </tr>\n",
       "    <tr>\n",
       "      <th>4</th>\n",
       "      <td>5</td>\n",
       "      <td>0</td>\n",
       "      <td>3</td>\n",
       "      <td>Allen, Mr. William Henry</td>\n",
       "      <td>male</td>\n",
       "      <td>35.0</td>\n",
       "      <td>0</td>\n",
       "      <td>0</td>\n",
       "      <td>373450</td>\n",
       "      <td>8.0500</td>\n",
       "      <td>NaN</td>\n",
       "      <td>S</td>\n",
       "    </tr>\n",
       "    <tr>\n",
       "      <th>5</th>\n",
       "      <td>6</td>\n",
       "      <td>0</td>\n",
       "      <td>3</td>\n",
       "      <td>Moran, Mr. James</td>\n",
       "      <td>male</td>\n",
       "      <td>NaN</td>\n",
       "      <td>0</td>\n",
       "      <td>0</td>\n",
       "      <td>330877</td>\n",
       "      <td>8.4583</td>\n",
       "      <td>NaN</td>\n",
       "      <td>Q</td>\n",
       "    </tr>\n",
       "    <tr>\n",
       "      <th>6</th>\n",
       "      <td>7</td>\n",
       "      <td>0</td>\n",
       "      <td>1</td>\n",
       "      <td>McCarthy, Mr. Timothy J</td>\n",
       "      <td>male</td>\n",
       "      <td>54.0</td>\n",
       "      <td>0</td>\n",
       "      <td>0</td>\n",
       "      <td>17463</td>\n",
       "      <td>51.8625</td>\n",
       "      <td>E46</td>\n",
       "      <td>S</td>\n",
       "    </tr>\n",
       "  </tbody>\n",
       "</table>\n",
       "</div>"
      ],
      "text/plain": [
       "   PassengerId  Survived  Pclass  \\\n",
       "0            1         0       3   \n",
       "1            2         1       1   \n",
       "2            3         1       3   \n",
       "3            4         1       1   \n",
       "4            5         0       3   \n",
       "5            6         0       3   \n",
       "6            7         0       1   \n",
       "\n",
       "                                                Name     Sex   Age  SibSp  \\\n",
       "0                            Braund, Mr. Owen Harris    male  22.0      1   \n",
       "1  Cumings, Mrs. John Bradley (Florence Briggs Th...  female  38.0      1   \n",
       "2                             Heikkinen, Miss. Laina  female  26.0      0   \n",
       "3       Futrelle, Mrs. Jacques Heath (Lily May Peel)  female  35.0      1   \n",
       "4                           Allen, Mr. William Henry    male  35.0      0   \n",
       "5                                   Moran, Mr. James    male   NaN      0   \n",
       "6                            McCarthy, Mr. Timothy J    male  54.0      0   \n",
       "\n",
       "   Parch            Ticket     Fare Cabin Embarked  \n",
       "0      0         A/5 21171   7.2500   NaN        S  \n",
       "1      0          PC 17599  71.2833   C85        C  \n",
       "2      0  STON/O2. 3101282   7.9250   NaN        S  \n",
       "3      0            113803  53.1000  C123        S  \n",
       "4      0            373450   8.0500   NaN        S  \n",
       "5      0            330877   8.4583   NaN        Q  \n",
       "6      0             17463  51.8625   E46        S  "
      ]
     },
     "execution_count": 4,
     "metadata": {},
     "output_type": "execute_result"
    }
   ],
   "source": [
    "# print the first 7 rows of the train dataset\n",
    "train_df.head(7)\n"
   ]
  },
  {
   "cell_type": "code",
   "execution_count": 5,
   "metadata": {},
   "outputs": [],
   "source": [
    "# create target tensors\n",
    "target = train_df['Survived'].values\n",
    "target = torch.from_numpy(target)"
   ]
  },
  {
   "cell_type": "code",
   "execution_count": 6,
   "metadata": {},
   "outputs": [
    {
     "name": "stderr",
     "output_type": "stream",
     "text": [
      "/var/folders/1f/qjk02_3s70zd4sxj573fj7400000gn/T/ipykernel_38715/2786960409.py:61: UserWarning: To copy construct from a tensor, it is recommended to use sourceTensor.clone().detach() or sourceTensor.clone().detach().requires_grad_(True), rather than torch.tensor(sourceTensor).\n",
      "  important_features = torch.tensor(important_features, dtype=torch.float32)\n",
      "/var/folders/1f/qjk02_3s70zd4sxj573fj7400000gn/T/ipykernel_38715/2786960409.py:72: UserWarning: To copy construct from a tensor, it is recommended to use sourceTensor.clone().detach() or sourceTensor.clone().detach().requires_grad_(True), rather than torch.tensor(sourceTensor).\n",
      "  train_features = torch.tensor(features[:700], dtype=torch.float32)\n",
      "/var/folders/1f/qjk02_3s70zd4sxj573fj7400000gn/T/ipykernel_38715/2786960409.py:73: UserWarning: To copy construct from a tensor, it is recommended to use sourceTensor.clone().detach() or sourceTensor.clone().detach().requires_grad_(True), rather than torch.tensor(sourceTensor).\n",
      "  train_target = torch.tensor(target[:700], dtype=torch.float32)\n"
     ]
    }
   ],
   "source": [
    "def get_features(df):\n",
    "    pclass = df['Pclass'].values\n",
    "    num_train_examples = len(df)\n",
    "\n",
    "    pgenders = df ['Sex'].values\n",
    "    genders = []\n",
    "\n",
    "    for pgen in pgenders:\n",
    "        if pgen == 'male':\n",
    "            genders.append(0)\n",
    "        elif pgen == 'female':\n",
    "            genders.append(1)\n",
    "\n",
    "    genders = torch.tensor(genders)\n",
    "    genders = genders.view(num_train_examples, -1)\n",
    "    pclass = torch.tensor(pclass)\n",
    "    pclass = pclass.view(num_train_examples, -1)\n",
    "    features = torch.hstack((pclass, genders))\n",
    "    features = features.view(num_train_examples, -1)\n",
    "\n",
    "    df['Age'].fillna(df['Age'].median(), inplace=True)\n",
    "    ages = df['Age'].values\n",
    "    ages = torch.tensor(ages)\n",
    "    ages = ages.view(num_train_examples, -1)\n",
    "    features = torch.hstack((features, ages))\n",
    "\n",
    "    sibsp = df['SibSp'].values\n",
    "    sibsp = torch.tensor(sibsp)\n",
    "    sibsp = sibsp.view(num_train_examples, -1)\n",
    "    features = torch.hstack((features, sibsp))\n",
    "\n",
    "    parch = df['Parch'].values\n",
    "    parch = torch.tensor(parch)\n",
    "    parch = parch.view(num_train_examples, -1)\n",
    "    features = torch.hstack((features, parch))\n",
    "\n",
    "    fare = df['Fare'].values\n",
    "    fare = torch.tensor(fare)\n",
    "    fare = fare.view(num_train_examples, -1)\n",
    "    features = torch.hstack((features, fare))\n",
    "\n",
    "    df['Embarked'].fillna('S', inplace=True)\n",
    "    pembarked = df['Embarked'].values\n",
    "    embarked = []\n",
    "\n",
    "    for embark in pembarked:\n",
    "        if embark == 'S':\n",
    "            embarked.append(0)\n",
    "        elif embark == 'C':\n",
    "            embarked.append(1)\n",
    "        elif embark == 'Q':\n",
    "            embarked.append(2)\n",
    "\n",
    "    embarked = torch.tensor(embarked)\n",
    "    embarked = embarked.view(num_train_examples, -1)\n",
    "    features = torch.hstack((features, embarked))\n",
    "\n",
    "    # print(ages.shape, genders.shape, fare.shape)\n",
    "    important_features = torch.hstack((ages, genders, fare))\n",
    "\n",
    "    important_features = torch.tensor(important_features, dtype=torch.float32)\n",
    "    \n",
    "    return important_features\n",
    "\n",
    "    return features\n",
    "\n",
    "features = get_features(train_df)\n",
    "\n",
    "\n",
    "\n",
    "# create a train and validation set\n",
    "train_features = torch.tensor(features[:700], dtype=torch.float32)\n",
    "train_target = torch.tensor(target[:700], dtype=torch.float32)\n",
    "\n",
    "val_features = features[700:]\n",
    "val_target = target[700:]\n"
   ]
  },
  {
   "cell_type": "code",
   "execution_count": 7,
   "metadata": {},
   "outputs": [
    {
     "data": {
      "image/png": "[encoded data removed]",
      "text/plain": [
       "<Figure size 640x480 with 1 Axes>"
      ]
     },
     "metadata": {},
     "output_type": "display_data"
    }
   ],
   "source": [
    "# create a neural network with 1 input layer, 1 hidden layer, and 1 output layer\n",
    "num_neurons = 64\n",
    "num_features = features.shape[1]\n",
    "output_size = 1\n",
    "\n",
    "model = torch.nn.Sequential(\n",
    "    torch.nn.Linear(num_features, num_neurons),\n",
    "    torch.nn.BatchNorm1d(num_neurons),\n",
    "    torch.nn.Sigmoid(),\n",
    "    torch.nn.Linear(num_neurons, num_neurons),\n",
    "    torch.nn.BatchNorm1d(num_neurons),\n",
    "    torch.nn.Sigmoid(),\n",
    "    torch.nn.Linear(num_neurons, output_size),\n",
    "    torch.nn.BatchNorm1d(output_size),\n",
    "    torch.nn.Sigmoid(),\n",
    ")\n",
    "\n",
    "\n",
    "# init weights of the first layer to be normally distributed\n",
    "torch.nn.init.normal_(model[0].weight, mean=0, std=1)\n",
    "# reduce the weights of the first layer to be smaller\n",
    "model[0].weight = torch.nn.Parameter(model[0].weight / 10)\n",
    "\n",
    "\n",
    "def print_sizes(model, input_tensor):\n",
    "    output = input_tensor\n",
    "    for i, m in enumerate(model.children()):\n",
    "        \n",
    "        output = m(output)\n",
    "        # if linear layer, plot a histogram of the output\n",
    "        if i == 0 and isinstance(m, torch.nn.Linear):\n",
    "            output_values = output.view(-1).tolist()\n",
    "            plt.hist(output_values, bins=100);\n",
    "        # print(m, output.shape)\n",
    "    return output\n",
    "\n",
    "\n",
    "\n",
    "# train the model on the entire dataset for production\n",
    "# x = torch.tensor(features, dtype=torch.float32)\n",
    "# x = x.view(-1, num_features)\n",
    "# y = torch.tensor(target, dtype=torch.float32)\n",
    "# y = y.view(-1, 1)\n",
    "\n",
    "# training set\n",
    "# x = torch.tensor(train_features, dtype=torch.float32)\n",
    "x = train_features.clone()\n",
    "x = x.view(-1, num_features)\n",
    "# y = torch.tensor(train_target, dtype=torch.float32)\n",
    "y = train_target.clone()\n",
    "y = y.view(-1, 1)\n",
    "\n",
    "sizes = print_sizes(model, x)\n"
   ]
  },
  {
   "cell_type": "code",
   "execution_count": 8,
   "metadata": {},
   "outputs": [
    {
     "name": "stdout",
     "output_type": "stream",
     "text": [
      "Iter: 0, Loss: 0.7219036221504211\n",
      "Iter: 1000, Loss: 0.4495030343532562\n",
      "Adjusted Learning rate: 0.0001\n",
      "Iter: 2000, Loss: 0.44002607464790344\n"
     ]
    },
    {
     "data": {
      "image/png": "[encoded data removed]",
      "text/plain": [
       "<Figure size 640x480 with 1 Axes>"
      ]
     },
     "metadata": {},
     "output_type": "display_data"
    },
    {
     "name": "stdout",
     "output_type": "stream",
     "text": [
      "Iter: 2999, Loss: 0.43589502573013306\n"
     ]
    }
   ],
   "source": [
    "# create a loss function\n",
    "loss_fn = F.binary_cross_entropy\n",
    "\n",
    "# create a MSE loss function\n",
    "# loss_fn = F.mse_loss\n",
    "\n",
    "\n",
    "lossi = []\n",
    "\n",
    "# create an optimizer\n",
    "learning_rate = 1e-3\n",
    "optimizer = torch.optim.AdamW(model.parameters(), lr=learning_rate)\n",
    "\n",
    "num_epochs = 3000\n",
    "\n",
    "# train the model\n",
    "for t in range(num_epochs):\n",
    "    for layer in model:\n",
    "        layer.train()\n",
    "    \n",
    "    y_pred = model(x)\n",
    "    loss = loss_fn(y_pred, y)\n",
    "    lossi.append(loss.item())\n",
    "    if int(t == num_epochs * .65):\n",
    "        learning_rate = 1e-4\n",
    "        optimizer = torch.optim.AdamW(model.parameters(), lr=learning_rate)\n",
    "        print(f'Adjusted Learning rate: {learning_rate}')\n",
    "    if t % 1000 == 0:\n",
    "        print(f'Iter: {t}, Loss: {loss.item()}')\n",
    "    optimizer.zero_grad()\n",
    "    loss.backward()\n",
    "    optimizer.step()\n",
    "\n",
    "# plot the loss\n",
    "plt.plot(lossi)\n",
    "plt.show()\n",
    "\n",
    "\n",
    "print(f'Iter: {t}, Loss: {loss.item()}')\n"
   ]
  },
  {
   "cell_type": "code",
   "execution_count": 9,
   "metadata": {},
   "outputs": [],
   "source": [
    "# put layers into eval mode (needed for batchnorm especially)\n",
    "for layer in model:\n",
    "  layer.training = False"
   ]
  },
  {
   "cell_type": "code",
   "execution_count": null,
   "metadata": {},
   "outputs": [],
   "source": []
  },
  {
   "cell_type": "code",
   "execution_count": 10,
   "metadata": {},
   "outputs": [
    {
     "name": "stdout",
     "output_type": "stream",
     "text": [
      "Validation accuracy: 0.80\n"
     ]
    },
    {
     "name": "stderr",
     "output_type": "stream",
     "text": [
      "/var/folders/1f/qjk02_3s70zd4sxj573fj7400000gn/T/ipykernel_38715/2426913016.py:2: UserWarning: To copy construct from a tensor, it is recommended to use sourceTensor.clone().detach() or sourceTensor.clone().detach().requires_grad_(True), rather than torch.tensor(sourceTensor).\n",
      "  x = torch.tensor(val_features, dtype=torch.float32)\n",
      "/var/folders/1f/qjk02_3s70zd4sxj573fj7400000gn/T/ipykernel_38715/2426913016.py:4: UserWarning: To copy construct from a tensor, it is recommended to use sourceTensor.clone().detach() or sourceTensor.clone().detach().requires_grad_(True), rather than torch.tensor(sourceTensor).\n",
      "  y = torch.tensor(val_target, dtype=torch.float32)\n"
     ]
    }
   ],
   "source": [
    "# Evaluate the model on the validation set\n",
    "x = torch.tensor(val_features, dtype=torch.float32)\n",
    "x = x.view(-1, num_features)\n",
    "y = torch.tensor(val_target, dtype=torch.float32)\n",
    "y = y.view(-1, 1)\n",
    "\n",
    "# calculate the accuracy of the model on the validation set\n",
    "with torch.no_grad():\n",
    "    y_pred = model(x)\n",
    "    loss = loss_fn(y_pred, y)\n",
    "    y_pred_class = y_pred.round()\n",
    "    acc = y_pred_class.eq(y).sum() / float(y.shape[0])\n",
    "\n",
    "print(f'Validation accuracy: {acc:.2f}')\n"
   ]
  },
  {
   "cell_type": "code",
   "execution_count": 11,
   "metadata": {},
   "outputs": [
    {
     "name": "stdout",
     "output_type": "stream",
     "text": [
      "Training Accuracy: 0.801047146320343\n"
     ]
    }
   ],
   "source": [
    "# Calculate the accuracy of the model\n",
    "with torch.no_grad():\n",
    "    y_pred = model(x)\n",
    "    y_pred_class = y_pred.round()\n",
    "    acc = y_pred_class.eq(y).sum() / float(y.shape[0])\n",
    "\n",
    "print(f'Training Accuracy: {acc.item()}')\n"
   ]
  },
  {
   "cell_type": "code",
   "execution_count": 12,
   "metadata": {},
   "outputs": [
    {
     "data": {
      "text/plain": [
       "67"
      ]
     },
     "execution_count": 12,
     "metadata": {},
     "output_type": "execute_result"
    }
   ],
   "source": [
    "len(np.where(y_pred_class == 1)[0])"
   ]
  },
  {
   "attachments": {},
   "cell_type": "markdown",
   "metadata": {},
   "source": [
    "Baseline results:\n",
    "epochs = 100 - a few thousand\n",
    "features: {pclass, sex}: 0.61 accuracy with no predicted survivors\n",
    "\n",
    "features: {pclass, sex, age}: 0.63 accuracy with 40 predicted survivors (some ones found in y_pred_class)\n",
    "\n",
    "features: {pclass, sex, age  ... fare}: 0.69 accuracy with 265 predicted survivors.  It seems that fare has a lot of influence on survival as it raised the accuracy by 6% and the number of predicted survivors by 225.\n",
    "\n",
    "Increasing the batch size also helped.  I went from 32 to 64 and got a 1% increase in accuracy."
   ]
  },
  {
   "cell_type": "code",
   "execution_count": 13,
   "metadata": {},
   "outputs": [
    {
     "name": "stdout",
     "output_type": "stream",
     "text": [
      "# of dead:  259\n",
      "# of survivors:  158\n"
     ]
    },
    {
     "name": "stderr",
     "output_type": "stream",
     "text": [
      "/var/folders/1f/qjk02_3s70zd4sxj573fj7400000gn/T/ipykernel_38715/2786960409.py:61: UserWarning: To copy construct from a tensor, it is recommended to use sourceTensor.clone().detach() or sourceTensor.clone().detach().requires_grad_(True), rather than torch.tensor(sourceTensor).\n",
      "  important_features = torch.tensor(important_features, dtype=torch.float32)\n",
      "/var/folders/1f/qjk02_3s70zd4sxj573fj7400000gn/T/ipykernel_38715/2119228742.py:7: UserWarning: To copy construct from a tensor, it is recommended to use sourceTensor.clone().detach() or sourceTensor.clone().detach().requires_grad_(True), rather than torch.tensor(sourceTensor).\n",
      "  test_df_features = torch.tensor(test_df_features, dtype=torch.float32)\n"
     ]
    }
   ],
   "source": [
    "# Evaluate model on test data\n",
    "\n",
    "# Calculate the accuracy of the model\n",
    "\n",
    "with torch.no_grad():\n",
    "    test_df_features = get_features(test_df)\n",
    "    test_df_features = torch.tensor(test_df_features, dtype=torch.float32)\n",
    "    test_df_features = test_df_features.view(-1, test_df_features.shape[1])\n",
    "\n",
    "    y_pred_test = model(test_df_features)\n",
    "    y_pred_test_class = y_pred_test.round()\n",
    "    y_pred_test_class = y_pred_test_class.view(-1)\n",
    "\n",
    "print(\"# of dead: \",len(np.where(y_pred_test_class == 0)[0]))\n",
    "print(\"# of survivors: \",len(np.where(y_pred_test_class == 1)[0]))"
   ]
  },
  {
   "cell_type": "code",
   "execution_count": 14,
   "metadata": {},
   "outputs": [
    {
     "name": "stdout",
     "output_type": "stream",
     "text": [
      "Your submission was successfully saved!\n"
     ]
    },
    {
     "name": "stderr",
     "output_type": "stream",
     "text": [
      "/var/folders/1f/qjk02_3s70zd4sxj573fj7400000gn/T/ipykernel_38715/116046272.py:1: UserWarning: To copy construct from a tensor, it is recommended to use sourceTensor.clone().detach() or sourceTensor.clone().detach().requires_grad_(True), rather than torch.tensor(sourceTensor).\n",
      "  test_predictions = torch.tensor(y_pred_test_class, dtype=torch.int32)\n"
     ]
    }
   ],
   "source": [
    "test_predictions = torch.tensor(y_pred_test_class, dtype=torch.int32)\n",
    "test_predictions.shape\n",
    "\n",
    "# Write predictions to file\n",
    "output = pd.DataFrame({'PassengerId': test_df.PassengerId, 'Survived': test_predictions})\n",
    "output.to_csv('my_submission.csv', index=False)\n",
    "print(\"Your submission was successfully saved!\")"
   ]
  },
  {
   "cell_type": "code",
   "execution_count": null,
   "metadata": {},
   "outputs": [],
   "source": []
  },
  {
   "attachments": {},
   "cell_type": "markdown",
   "metadata": {},
   "source": [
    "Ideas for improving \n",
    "- add dropout\n",
    "- add regularization\n",
    "- add more layers\n",
    "- add more neurons\n",
    "- add more epochs\n",
    "- add more features\n",
    "- add more data\n",
    "- use a transformer model\n",
    "\n",
    "Done:\n",
    "- created a validation set\n"
   ]
  },
  {
   "attachments": {},
   "cell_type": "markdown",
   "metadata": {},
   "source": [
    "# Random Forests"
   ]
  },
  {
   "attachments": {},
   "cell_type": "markdown",
   "metadata": {},
   "source": [
    "import sklearn.ensemble as ske"
   ]
  },
  {
   "cell_type": "code",
   "execution_count": 34,
   "metadata": {},
   "outputs": [
    {
     "name": "stdout",
     "output_type": "stream",
     "text": [
      "features, target shape: (torch.Size([891, 3]), torch.Size([891]))\n",
      "[0 0 0 0 1]\n"
     ]
    },
    {
     "name": "stderr",
     "output_type": "stream",
     "text": [
      "/var/folders/1f/qjk02_3s70zd4sxj573fj7400000gn/T/ipykernel_38715/2786960409.py:61: UserWarning: To copy construct from a tensor, it is recommended to use sourceTensor.clone().detach() or sourceTensor.clone().detach().requires_grad_(True), rather than torch.tensor(sourceTensor).\n",
      "  important_features = torch.tensor(important_features, dtype=torch.float32)\n",
      "/var/folders/1f/qjk02_3s70zd4sxj573fj7400000gn/T/ipykernel_38715/3930946290.py:40: UserWarning: To copy construct from a tensor, it is recommended to use sourceTensor.clone().detach() or sourceTensor.clone().detach().requires_grad_(True), rather than torch.tensor(sourceTensor).\n",
      "  test_df_features = torch.tensor(test_df_features, dtype=torch.float32)\n"
     ]
    }
   ],
   "source": [
    "import sklearn.ensemble as ske\n",
    "\n",
    "# # Train the model on training data\n",
    "# model = ske.RandomForestClassifier(n_estimators=10, max_depth=5, random_state=1)\n",
    "# model.fit(train_features, train_target)\n",
    "\n",
    "# # Evaluate the model on the validation set\n",
    "# predictions = model.predict(val_features)\n",
    "\n",
    "\n",
    "# # create a train and validation set\n",
    "# train_features = torch.tensor(features[:700], dtype=torch.float32)\n",
    "# train_target = torch.tensor(target[:700], dtype=torch.float32)\n",
    "\n",
    "# val_features = features[700:]\n",
    "# val_target = target[700:]\n",
    "\n",
    "# print(predictions.shape)\n",
    "\n",
    "# val_target = np.array(val_target).reshape(-1, 1)\n",
    "# predictions = np.array(predictions).reshape(-1, 1)\n",
    "\n",
    "# # # Calculate the accuracy of the model\n",
    "# print(val_target.shape, predictions.shape)\n",
    "# # val_target = val_target.tolist()\n",
    "\n",
    "# # print(val_target)\n",
    "# acc = model.score(val_features, val_target)\n",
    "# print(f'Validation accuracy: {acc:.2f}')\n",
    "\n",
    "\n",
    "# Train the model on entire dataset\n",
    "model = ske.RandomForestClassifier(n_estimators=10, max_depth=5, random_state=1)\n",
    "model.fit(features, target)\n",
    "\n",
    "print(f'features, target shape: {features.shape, target.shape}')\n",
    "\n",
    "# Evaluate the model on the test set\n",
    "test_df_features = get_features(test_df)\n",
    "test_df_features = torch.tensor(test_df_features, dtype=torch.float32)\n",
    "test_df_features = test_df_features.view(-1, test_df_features.shape[1])\n",
    "test_df_features = torch.nan_to_num(test_df_features, nan=0.0, posinf=0.0, neginf=0.0)\n",
    "# print(test_df_features)\n",
    "\n",
    "# check if test_df_features has any NaN values\n",
    "if test_df_features.isnan().any():\n",
    "    print(\"NaN values in test_df_features\")\n",
    "    # replace NaN values with 0\n",
    "    test_df_features = test_df_features[:, 0].fillna(0)\n",
    "\n",
    "\n",
    "predictions = model.predict(test_df_features)\n",
    "\n",
    "predictions = np.asarray(predictions, dtype=np.int32)\n",
    "print(predictions[:5])\n",
    "# # Write predictions to file\n",
    "output = pd.DataFrame({'PassengerId': test_df.PassengerId, 'Survived': predictions})\n",
    "output.to_csv('my_rfe_submission.csv', index=False)"
   ]
  },
  {
   "cell_type": "markdown",
   "metadata": {},
   "source": []
  }
 ],
 "metadata": {
  "kernelspec": {
   "display_name": "base",
   "language": "python",
   "name": "python3"
  },
  "language_info": {
   "codemirror_mode": {
    "name": "ipython",
    "version": 3
   },
   "file_extension": ".py",
   "mimetype": "text/x-python",
   "name": "python",
   "nbconvert_exporter": "python",
   "pygments_lexer": "ipython3",
   "version": "3.9.13"
  },
  "orig_nbformat": 4
 },
 "nbformat": 4,
 "nbformat_minor": 2
}
