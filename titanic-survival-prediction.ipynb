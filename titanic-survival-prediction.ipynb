{
 "cells": [
  {
   "attachments": {},
   "cell_type": "markdown",
   "metadata": {},
   "source": [
    "Titanic - Machine Learning from Disaster\n",
    "\n",
    "Start here! Predict survival on the Titanic and get familiar with ML basics\n",
    "\n",
    "https://www.kaggle.com/competitions/titanic/data?select=train.csv\n",
    "\n"
   ]
  },
  {
   "cell_type": "code",
   "execution_count": 97,
   "metadata": {},
   "outputs": [],
   "source": [
    "# Import panda dataframe library\n",
    "import pandas as pd\n",
    "import numpy as np\n",
    "import torch as torch\n",
    "import torch.nn.functional as F"
   ]
  },
  {
   "cell_type": "code",
   "execution_count": 98,
   "metadata": {},
   "outputs": [],
   "source": [
    "# Open the train and test datasets to determine which features are available in each dataset\n",
    "train_df = pd.read_csv('datasets/titanic/train.csv')\n",
    "test_df = pd.read_csv('datasets/titanic/test.csv')"
   ]
  },
  {
   "cell_type": "code",
   "execution_count": 99,
   "metadata": {},
   "outputs": [
    {
     "data": {
      "text/html": [
       "<div>\n",
       "<style scoped>\n",
       "    .dataframe tbody tr th:only-of-type {\n",
       "        vertical-align: middle;\n",
       "    }\n",
       "\n",
       "    .dataframe tbody tr th {\n",
       "        vertical-align: top;\n",
       "    }\n",
       "\n",
       "    .dataframe thead th {\n",
       "        text-align: right;\n",
       "    }\n",
       "</style>\n",
       "<table border=\"1\" class=\"dataframe\">\n",
       "  <thead>\n",
       "    <tr style=\"text-align: right;\">\n",
       "      <th></th>\n",
       "      <th>PassengerId</th>\n",
       "      <th>Survived</th>\n",
       "      <th>Pclass</th>\n",
       "      <th>Name</th>\n",
       "      <th>Sex</th>\n",
       "      <th>Age</th>\n",
       "      <th>SibSp</th>\n",
       "      <th>Parch</th>\n",
       "      <th>Ticket</th>\n",
       "      <th>Fare</th>\n",
       "      <th>Cabin</th>\n",
       "      <th>Embarked</th>\n",
       "    </tr>\n",
       "  </thead>\n",
       "  <tbody>\n",
       "    <tr>\n",
       "      <th>0</th>\n",
       "      <td>1</td>\n",
       "      <td>0</td>\n",
       "      <td>3</td>\n",
       "      <td>Braund, Mr. Owen Harris</td>\n",
       "      <td>male</td>\n",
       "      <td>22.0</td>\n",
       "      <td>1</td>\n",
       "      <td>0</td>\n",
       "      <td>A/5 21171</td>\n",
       "      <td>7.2500</td>\n",
       "      <td>NaN</td>\n",
       "      <td>S</td>\n",
       "    </tr>\n",
       "    <tr>\n",
       "      <th>1</th>\n",
       "      <td>2</td>\n",
       "      <td>1</td>\n",
       "      <td>1</td>\n",
       "      <td>Cumings, Mrs. John Bradley (Florence Briggs Th...</td>\n",
       "      <td>female</td>\n",
       "      <td>38.0</td>\n",
       "      <td>1</td>\n",
       "      <td>0</td>\n",
       "      <td>PC 17599</td>\n",
       "      <td>71.2833</td>\n",
       "      <td>C85</td>\n",
       "      <td>C</td>\n",
       "    </tr>\n",
       "    <tr>\n",
       "      <th>2</th>\n",
       "      <td>3</td>\n",
       "      <td>1</td>\n",
       "      <td>3</td>\n",
       "      <td>Heikkinen, Miss. Laina</td>\n",
       "      <td>female</td>\n",
       "      <td>26.0</td>\n",
       "      <td>0</td>\n",
       "      <td>0</td>\n",
       "      <td>STON/O2. 3101282</td>\n",
       "      <td>7.9250</td>\n",
       "      <td>NaN</td>\n",
       "      <td>S</td>\n",
       "    </tr>\n",
       "    <tr>\n",
       "      <th>3</th>\n",
       "      <td>4</td>\n",
       "      <td>1</td>\n",
       "      <td>1</td>\n",
       "      <td>Futrelle, Mrs. Jacques Heath (Lily May Peel)</td>\n",
       "      <td>female</td>\n",
       "      <td>35.0</td>\n",
       "      <td>1</td>\n",
       "      <td>0</td>\n",
       "      <td>113803</td>\n",
       "      <td>53.1000</td>\n",
       "      <td>C123</td>\n",
       "      <td>S</td>\n",
       "    </tr>\n",
       "    <tr>\n",
       "      <th>4</th>\n",
       "      <td>5</td>\n",
       "      <td>0</td>\n",
       "      <td>3</td>\n",
       "      <td>Allen, Mr. William Henry</td>\n",
       "      <td>male</td>\n",
       "      <td>35.0</td>\n",
       "      <td>0</td>\n",
       "      <td>0</td>\n",
       "      <td>373450</td>\n",
       "      <td>8.0500</td>\n",
       "      <td>NaN</td>\n",
       "      <td>S</td>\n",
       "    </tr>\n",
       "    <tr>\n",
       "      <th>5</th>\n",
       "      <td>6</td>\n",
       "      <td>0</td>\n",
       "      <td>3</td>\n",
       "      <td>Moran, Mr. James</td>\n",
       "      <td>male</td>\n",
       "      <td>NaN</td>\n",
       "      <td>0</td>\n",
       "      <td>0</td>\n",
       "      <td>330877</td>\n",
       "      <td>8.4583</td>\n",
       "      <td>NaN</td>\n",
       "      <td>Q</td>\n",
       "    </tr>\n",
       "    <tr>\n",
       "      <th>6</th>\n",
       "      <td>7</td>\n",
       "      <td>0</td>\n",
       "      <td>1</td>\n",
       "      <td>McCarthy, Mr. Timothy J</td>\n",
       "      <td>male</td>\n",
       "      <td>54.0</td>\n",
       "      <td>0</td>\n",
       "      <td>0</td>\n",
       "      <td>17463</td>\n",
       "      <td>51.8625</td>\n",
       "      <td>E46</td>\n",
       "      <td>S</td>\n",
       "    </tr>\n",
       "  </tbody>\n",
       "</table>\n",
       "</div>"
      ],
      "text/plain": [
       "   PassengerId  Survived  Pclass  \\\n",
       "0            1         0       3   \n",
       "1            2         1       1   \n",
       "2            3         1       3   \n",
       "3            4         1       1   \n",
       "4            5         0       3   \n",
       "5            6         0       3   \n",
       "6            7         0       1   \n",
       "\n",
       "                                                Name     Sex   Age  SibSp  \\\n",
       "0                            Braund, Mr. Owen Harris    male  22.0      1   \n",
       "1  Cumings, Mrs. John Bradley (Florence Briggs Th...  female  38.0      1   \n",
       "2                             Heikkinen, Miss. Laina  female  26.0      0   \n",
       "3       Futrelle, Mrs. Jacques Heath (Lily May Peel)  female  35.0      1   \n",
       "4                           Allen, Mr. William Henry    male  35.0      0   \n",
       "5                                   Moran, Mr. James    male   NaN      0   \n",
       "6                            McCarthy, Mr. Timothy J    male  54.0      0   \n",
       "\n",
       "   Parch            Ticket     Fare Cabin Embarked  \n",
       "0      0         A/5 21171   7.2500   NaN        S  \n",
       "1      0          PC 17599  71.2833   C85        C  \n",
       "2      0  STON/O2. 3101282   7.9250   NaN        S  \n",
       "3      0            113803  53.1000  C123        S  \n",
       "4      0            373450   8.0500   NaN        S  \n",
       "5      0            330877   8.4583   NaN        Q  \n",
       "6      0             17463  51.8625   E46        S  "
      ]
     },
     "execution_count": 99,
     "metadata": {},
     "output_type": "execute_result"
    }
   ],
   "source": [
    "# print the first 7 rows of the train dataset\n",
    "train_df.head(7)\n"
   ]
  },
  {
   "cell_type": "code",
   "execution_count": 100,
   "metadata": {},
   "outputs": [],
   "source": [
    "# create target tensors\n",
    "target = train_df['Survived'].values\n",
    "target = torch.from_numpy(target)"
   ]
  },
  {
   "cell_type": "code",
   "execution_count": 101,
   "metadata": {},
   "outputs": [
    {
     "name": "stdout",
     "output_type": "stream",
     "text": [
      "torch.Size([891, 1]) torch.Size([891, 1]) torch.Size([891, 1])\n"
     ]
    }
   ],
   "source": [
    "def get_features(df):\n",
    "    pclass = df['Pclass'].values\n",
    "    num_train_examples = len(df)\n",
    "\n",
    "    pgenders = df ['Sex'].values\n",
    "    genders = []\n",
    "\n",
    "    for pgen in pgenders:\n",
    "        if pgen == 'male':\n",
    "            genders.append(0)\n",
    "        elif pgen == 'female':\n",
    "            genders.append(1)\n",
    "\n",
    "    genders = torch.tensor(genders)\n",
    "    genders = genders.view(num_train_examples, -1)\n",
    "    pclass = torch.tensor(pclass)\n",
    "    pclass = pclass.view(num_train_examples, -1)\n",
    "    features = torch.hstack((pclass, genders))\n",
    "    features = features.view(num_train_examples, -1)\n",
    "\n",
    "    df['Age'].fillna(df['Age'].median(), inplace=True)\n",
    "    ages = df['Age'].values\n",
    "    ages = torch.tensor(ages)\n",
    "    ages = ages.view(num_train_examples, -1)\n",
    "    features = torch.hstack((features, ages))\n",
    "\n",
    "    sibsp = df['SibSp'].values\n",
    "    sibsp = torch.tensor(sibsp)\n",
    "    sibsp = sibsp.view(num_train_examples, -1)\n",
    "    features = torch.hstack((features, sibsp))\n",
    "\n",
    "    parch = df['Parch'].values\n",
    "    parch = torch.tensor(parch)\n",
    "    parch = parch.view(num_train_examples, -1)\n",
    "    features = torch.hstack((features, parch))\n",
    "\n",
    "    fare = df['Fare'].values\n",
    "    fare = torch.tensor(fare)\n",
    "    fare = fare.view(num_train_examples, -1)\n",
    "    features = torch.hstack((features, fare))\n",
    "\n",
    "    df['Embarked'].fillna('S', inplace=True)\n",
    "    pembarked = df['Embarked'].values\n",
    "    embarked = []\n",
    "\n",
    "    for embark in pembarked:\n",
    "        if embark == 'S':\n",
    "            embarked.append(0)\n",
    "        elif embark == 'C':\n",
    "            embarked.append(1)\n",
    "        elif embark == 'Q':\n",
    "            embarked.append(2)\n",
    "\n",
    "    embarked = torch.tensor(embarked)\n",
    "    embarked = embarked.view(num_train_examples, -1)\n",
    "    features = torch.hstack((features, embarked))\n",
    "\n",
    "    print(ages.shape, genders.shape, fare.shape)\n",
    "    important_features = torch.hstack((ages, genders, fare))\n",
    "    \n",
    "    return important_features\n",
    "\n",
    "    return features\n",
    "\n",
    "features = get_features(train_df)\n",
    "\n",
    "\n",
    "\n",
    "# create a train and validation set\n",
    "train_features = features[:700]\n",
    "train_target = target[:700]\n",
    "\n",
    "val_features = features[700:]\n",
    "val_target = target[700:]\n"
   ]
  },
  {
   "cell_type": "code",
   "execution_count": 102,
   "metadata": {},
   "outputs": [
    {
     "name": "stderr",
     "output_type": "stream",
     "text": [
      "/var/folders/1f/qjk02_3s70zd4sxj573fj7400000gn/T/ipykernel_36140/3447672426.py:22: UserWarning: To copy construct from a tensor, it is recommended to use sourceTensor.clone().detach() or sourceTensor.clone().detach().requires_grad_(True), rather than torch.tensor(sourceTensor).\n",
      "  x = torch.tensor(features, dtype=torch.float32)\n",
      "/var/folders/1f/qjk02_3s70zd4sxj573fj7400000gn/T/ipykernel_36140/3447672426.py:24: UserWarning: To copy construct from a tensor, it is recommended to use sourceTensor.clone().detach() or sourceTensor.clone().detach().requires_grad_(True), rather than torch.tensor(sourceTensor).\n",
      "  y = torch.tensor(target, dtype=torch.float32)\n"
     ]
    }
   ],
   "source": [
    "# create a neural network with 1 input layer, 1 hidden layer, and 1 output layer\n",
    "num_neurons = 32\n",
    "num_features = features.shape[1]\n",
    "output_size = 1\n",
    "\n",
    "model = torch.nn.Sequential(\n",
    "    torch.nn.Linear(num_features, num_neurons),\n",
    "    torch.nn.BatchNorm1d(num_neurons),\n",
    "    torch.nn.Sigmoid(),\n",
    "    torch.nn.Linear(num_neurons, output_size),\n",
    "    torch.nn.BatchNorm1d(output_size),\n",
    "    torch.nn.Sigmoid(),\n",
    ")\n",
    "\n",
    "# model = torch.nn.Sequential(\n",
    "#     torch.nn.Linear(num_features, output_size),\n",
    "#     # torch.nn.BatchNorm1d(output_size),\n",
    "#     torch.nn.Sigmoid(),\n",
    "# )\n",
    "\n",
    "# train the model on the entire dataset for production\n",
    "x = torch.tensor(features, dtype=torch.float32)\n",
    "x = x.view(-1, num_features)\n",
    "y = torch.tensor(target, dtype=torch.float32)\n",
    "y = y.view(-1, 1)\n",
    "\n",
    "# training set\n",
    "# x = torch.tensor(train_features, dtype=torch.float32)\n",
    "# x = x.view(-1, num_features)\n",
    "# y = torch.tensor(train_target, dtype=torch.float32)\n",
    "# y = y.view(-1, 1)\n"
   ]
  },
  {
   "cell_type": "code",
   "execution_count": 103,
   "metadata": {},
   "outputs": [
    {
     "name": "stdout",
     "output_type": "stream",
     "text": [
      "Iter: 0, Loss: 0.6529161334037781\n",
      "Iter: 1000, Loss: 0.46219661831855774\n",
      "Iter: 2000, Loss: 0.4548664689064026\n",
      "Iter: 3000, Loss: 0.4528019428253174\n",
      "Iter: 4000, Loss: 0.44922128319740295\n",
      "Iter: 5000, Loss: 0.4462409019470215\n",
      "Iter: 6000, Loss: 0.4439260959625244\n",
      "Iter: 7000, Loss: 0.44369086623191833\n",
      "Adjusted Learning rate: 0.0001\n",
      "Iter: 8000, Loss: 0.4408860206604004\n",
      "Iter: 9000, Loss: 0.4402076005935669\n",
      "Iter: 9999, Loss: 0.4395637512207031\n"
     ]
    }
   ],
   "source": [
    "# create a loss function\n",
    "loss_fn = F.binary_cross_entropy\n",
    "\n",
    "# create an optimizer\n",
    "learning_rate = 1e-3\n",
    "optimizer = torch.optim.AdamW(model.parameters(), lr=learning_rate)\n",
    "\n",
    "num_epochs = 10000\n",
    "\n",
    "# train the model\n",
    "for t in range(num_epochs):\n",
    "    y_pred = model(x)\n",
    "    loss = loss_fn(y_pred, y)\n",
    "    if int(t == num_epochs * .75):\n",
    "        learning_rate = 1e-4\n",
    "        optimizer = torch.optim.AdamW(model.parameters(), lr=learning_rate)\n",
    "        print(f'Adjusted Learning rate: {learning_rate}')\n",
    "    if t % 1000 == 0:\n",
    "        print(f'Iter: {t}, Loss: {loss.item()}')\n",
    "    optimizer.zero_grad()\n",
    "    loss.backward()\n",
    "    optimizer.step()\n",
    "\n",
    "print(f'Iter: {t}, Loss: {loss.item()}')\n"
   ]
  },
  {
   "cell_type": "code",
   "execution_count": 104,
   "metadata": {},
   "outputs": [],
   "source": [
    "# put layers into eval mode (needed for batchnorm especially)\n",
    "for layer in model:\n",
    "  layer.training = False"
   ]
  },
  {
   "cell_type": "code",
   "execution_count": null,
   "metadata": {},
   "outputs": [],
   "source": []
  },
  {
   "cell_type": "code",
   "execution_count": 105,
   "metadata": {},
   "outputs": [
    {
     "name": "stdout",
     "output_type": "stream",
     "text": [
      "Validation accuracy: 0.82\n"
     ]
    },
    {
     "name": "stderr",
     "output_type": "stream",
     "text": [
      "/var/folders/1f/qjk02_3s70zd4sxj573fj7400000gn/T/ipykernel_36140/2426913016.py:2: UserWarning: To copy construct from a tensor, it is recommended to use sourceTensor.clone().detach() or sourceTensor.clone().detach().requires_grad_(True), rather than torch.tensor(sourceTensor).\n",
      "  x = torch.tensor(val_features, dtype=torch.float32)\n",
      "/var/folders/1f/qjk02_3s70zd4sxj573fj7400000gn/T/ipykernel_36140/2426913016.py:4: UserWarning: To copy construct from a tensor, it is recommended to use sourceTensor.clone().detach() or sourceTensor.clone().detach().requires_grad_(True), rather than torch.tensor(sourceTensor).\n",
      "  y = torch.tensor(val_target, dtype=torch.float32)\n"
     ]
    }
   ],
   "source": [
    "# Evaluate the model on the validation set\n",
    "x = torch.tensor(val_features, dtype=torch.float32)\n",
    "x = x.view(-1, num_features)\n",
    "y = torch.tensor(val_target, dtype=torch.float32)\n",
    "y = y.view(-1, 1)\n",
    "\n",
    "# calculate the accuracy of the model on the validation set\n",
    "with torch.no_grad():\n",
    "    y_pred = model(x)\n",
    "    loss = loss_fn(y_pred, y)\n",
    "    y_pred_class = y_pred.round()\n",
    "    acc = y_pred_class.eq(y).sum() / float(y.shape[0])\n",
    "\n",
    "print(f'Validation accuracy: {acc:.2f}')\n"
   ]
  },
  {
   "cell_type": "code",
   "execution_count": 106,
   "metadata": {},
   "outputs": [
    {
     "name": "stdout",
     "output_type": "stream",
     "text": [
      "Training Accuracy: 0.8219895362854004\n"
     ]
    }
   ],
   "source": [
    "# Calculate the accuracy of the model\n",
    "with torch.no_grad():\n",
    "    y_pred = model(x)\n",
    "    y_pred_class = y_pred.round()\n",
    "    acc = y_pred_class.eq(y).sum() / float(y.shape[0])\n",
    "\n",
    "print(f'Training Accuracy: {acc.item()}')\n"
   ]
  },
  {
   "cell_type": "code",
   "execution_count": 107,
   "metadata": {},
   "outputs": [
    {
     "data": {
      "text/plain": [
       "69"
      ]
     },
     "execution_count": 107,
     "metadata": {},
     "output_type": "execute_result"
    }
   ],
   "source": [
    "len(np.where(y_pred_class == 1)[0])"
   ]
  },
  {
   "attachments": {},
   "cell_type": "markdown",
   "metadata": {},
   "source": [
    "Baseline results:\n",
    "epochs = 100 - a few thousand\n",
    "features: {pclass, sex}: 0.61 accuracy with no predicted survivors\n",
    "\n",
    "features: {pclass, sex, age}: 0.63 accuracy with 40 predicted survivors (some ones found in y_pred_class)\n",
    "\n",
    "features: {pclass, sex, age  ... fare}: 0.69 accuracy with 265 predicted survivors.  It seems that fare has a lot of influence on survival as it raised the accuracy by 6% and the number of predicted survivors by 225.\n",
    "\n",
    "Increasing the batch size also helped.  I went from 32 to 64 and got a 1% increase in accuracy."
   ]
  },
  {
   "cell_type": "code",
   "execution_count": 108,
   "metadata": {},
   "outputs": [
    {
     "name": "stdout",
     "output_type": "stream",
     "text": [
      "torch.Size([418, 1]) torch.Size([418, 1]) torch.Size([418, 1])\n",
      "# of dead:  262\n",
      "# of survivors:  155\n"
     ]
    },
    {
     "name": "stderr",
     "output_type": "stream",
     "text": [
      "/var/folders/1f/qjk02_3s70zd4sxj573fj7400000gn/T/ipykernel_36140/2119228742.py:7: UserWarning: To copy construct from a tensor, it is recommended to use sourceTensor.clone().detach() or sourceTensor.clone().detach().requires_grad_(True), rather than torch.tensor(sourceTensor).\n",
      "  test_df_features = torch.tensor(test_df_features, dtype=torch.float32)\n"
     ]
    }
   ],
   "source": [
    "# Evaluate model on test data\n",
    "\n",
    "# Calculate the accuracy of the model\n",
    "\n",
    "with torch.no_grad():\n",
    "    test_df_features = get_features(test_df)\n",
    "    test_df_features = torch.tensor(test_df_features, dtype=torch.float32)\n",
    "    test_df_features = test_df_features.view(-1, test_df_features.shape[1])\n",
    "\n",
    "    y_pred_test = model(test_df_features)\n",
    "    y_pred_test_class = y_pred_test.round()\n",
    "    y_pred_test_class = y_pred_test_class.view(-1)\n",
    "\n",
    "print(\"# of dead: \",len(np.where(y_pred_test_class == 0)[0]))\n",
    "print(\"# of survivors: \",len(np.where(y_pred_test_class == 1)[0]))"
   ]
  },
  {
   "cell_type": "code",
   "execution_count": 109,
   "metadata": {},
   "outputs": [
    {
     "name": "stdout",
     "output_type": "stream",
     "text": [
      "Your submission was successfully saved!\n"
     ]
    },
    {
     "name": "stderr",
     "output_type": "stream",
     "text": [
      "/var/folders/1f/qjk02_3s70zd4sxj573fj7400000gn/T/ipykernel_36140/116046272.py:1: UserWarning: To copy construct from a tensor, it is recommended to use sourceTensor.clone().detach() or sourceTensor.clone().detach().requires_grad_(True), rather than torch.tensor(sourceTensor).\n",
      "  test_predictions = torch.tensor(y_pred_test_class, dtype=torch.int32)\n"
     ]
    }
   ],
   "source": [
    "test_predictions = torch.tensor(y_pred_test_class, dtype=torch.int32)\n",
    "test_predictions.shape\n",
    "\n",
    "# Write predictions to file\n",
    "output = pd.DataFrame({'PassengerId': test_df.PassengerId, 'Survived': test_predictions})\n",
    "output.to_csv('my_submission.csv', index=False)\n",
    "print(\"Your submission was successfully saved!\")"
   ]
  },
  {
   "cell_type": "code",
   "execution_count": null,
   "metadata": {},
   "outputs": [],
   "source": []
  },
  {
   "attachments": {},
   "cell_type": "markdown",
   "metadata": {},
   "source": [
    "Ideas for improving \n",
    "- add dropout\n",
    "- add regularization\n",
    "- add more layers\n",
    "- add more neurons\n",
    "- add more epochs\n",
    "- add more features\n",
    "- add more data\n",
    "- use a transformer model\n",
    "\n",
    "Done:\n",
    "- created a validation set\n"
   ]
  },
  {
   "cell_type": "markdown",
   "metadata": {},
   "source": []
  }
 ],
 "metadata": {
  "kernelspec": {
   "display_name": "base",
   "language": "python",
   "name": "python3"
  },
  "language_info": {
   "codemirror_mode": {
    "name": "ipython",
    "version": 3
   },
   "file_extension": ".py",
   "mimetype": "text/x-python",
   "name": "python",
   "nbconvert_exporter": "python",
   "pygments_lexer": "ipython3",
   "version": "3.9.13"
  },
  "orig_nbformat": 4
 },
 "nbformat": 4,
 "nbformat_minor": 2
}
