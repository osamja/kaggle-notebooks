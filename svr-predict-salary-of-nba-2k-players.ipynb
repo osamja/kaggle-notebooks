{
 "cells": [
  {
   "cell_type": "code",
   "execution_count": 1,
   "id": "1866e862",
   "metadata": {
    "_cell_guid": "b1076dfc-b9ad-4769-8c92-a6c4dae69d19",
    "_uuid": "8f2839f25d086af736a60e9eeb907d3b93b6e0e5",
    "execution": {
     "iopub.execute_input": "2022-07-06T01:40:51.465163Z",
     "iopub.status.busy": "2022-07-06T01:40:51.464688Z",
     "iopub.status.idle": "2022-07-06T01:40:51.486792Z",
     "shell.execute_reply": "2022-07-06T01:40:51.485224Z"
    },
    "papermill": {
     "duration": 0.032522,
     "end_time": "2022-07-06T01:40:51.490913",
     "exception": false,
     "start_time": "2022-07-06T01:40:51.458391",
     "status": "completed"
    },
    "tags": []
   },
   "outputs": [
    {
     "name": "stdout",
     "output_type": "stream",
     "text": [
      "/kaggle/input/nba2k20-player-dataset/nba2k-full.csv\n"
     ]
    }
   ],
   "source": [
    "# This Python 3 environment comes with many helpful analytics libraries installed\n",
    "# It is defined by the kaggle/python Docker image: https://github.com/kaggle/docker-python\n",
    "# For example, here's several helpful packages to load\n",
    "\n",
    "import numpy as np # linear algebra\n",
    "import pandas as pd # data processing, CSV file I/O (e.g. pd.read_csv)\n",
    "\n",
    "# Input data files are available in the read-only \"../input/\" directory\n",
    "# For example, running this (by clicking run or pressing Shift+Enter) will list all files under the input directory\n",
    "\n",
    "import os\n",
    "for dirname, _, filenames in os.walk('/kaggle/input'):\n",
    "    for filename in filenames:\n",
    "        print(os.path.join(dirname, filename))\n",
    "\n",
    "# You can write up to 20GB to the current directory (/kaggle/working/) that gets preserved as output when you create a version using \"Save & Run All\" \n",
    "# You can also write temporary files to /kaggle/temp/, but they won't be saved outside of the current session"
   ]
  },
  {
   "cell_type": "markdown",
   "id": "ba631e4f",
   "metadata": {
    "papermill": {
     "duration": 0.003127,
     "end_time": "2022-07-06T01:40:51.497788",
     "exception": false,
     "start_time": "2022-07-06T01:40:51.494661",
     "status": "completed"
    },
    "tags": []
   },
   "source": [
    "# Goal: Salary Prediction of nba 2k players"
   ]
  },
  {
   "cell_type": "markdown",
   "id": "0feddc73",
   "metadata": {
    "papermill": {
     "duration": 0.00303,
     "end_time": "2022-07-06T01:40:51.504179",
     "exception": false,
     "start_time": "2022-07-06T01:40:51.501149",
     "status": "completed"
    },
    "tags": []
   },
   "source": [
    "Steps:\n",
    "Use a support vector regression model to \n",
    "1) Predict salary given a player's NBA 2k rating\n",
    "2) Predict salary given more player features"
   ]
  },
  {
   "cell_type": "markdown",
   "id": "d934b4bb",
   "metadata": {
    "papermill": {
     "duration": 0.002958,
     "end_time": "2022-07-06T01:40:51.510546",
     "exception": false,
     "start_time": "2022-07-06T01:40:51.507588",
     "status": "completed"
    },
    "tags": []
   },
   "source": [
    "### Importing the dataset"
   ]
  },
  {
   "cell_type": "code",
   "execution_count": 2,
   "id": "51ea82d3",
   "metadata": {
    "execution": {
     "iopub.execute_input": "2022-07-06T01:40:51.518948Z",
     "iopub.status.busy": "2022-07-06T01:40:51.518585Z",
     "iopub.status.idle": "2022-07-06T01:40:51.547535Z",
     "shell.execute_reply": "2022-07-06T01:40:51.546048Z"
    },
    "papermill": {
     "duration": 0.036267,
     "end_time": "2022-07-06T01:40:51.550013",
     "exception": false,
     "start_time": "2022-07-06T01:40:51.513746",
     "status": "completed"
    },
    "tags": []
   },
   "outputs": [
    {
     "name": "stderr",
     "output_type": "stream",
     "text": [
      "/opt/conda/lib/python3.7/site-packages/ipykernel_launcher.py:3: FutureWarning: The default value of regex will change from True to False in a future version. In addition, single character regular expressions will *not* be treated as literal strings when regex=True.\n",
      "  This is separate from the ipykernel package so we can avoid doing imports until\n"
     ]
    }
   ],
   "source": [
    "dataset = pd.read_csv('/kaggle/input/nba2k20-player-dataset/nba2k-full.csv')\n",
    "X = dataset.iloc[:, 1].values  # use ratings as initial feature\n",
    "y = dataset['salary'].str.replace('$', '').values\n",
    "y = y.astype(int)"
   ]
  },
  {
   "cell_type": "markdown",
   "id": "f63a7781",
   "metadata": {
    "papermill": {
     "duration": 0.003102,
     "end_time": "2022-07-06T01:40:51.556562",
     "exception": false,
     "start_time": "2022-07-06T01:40:51.553460",
     "status": "completed"
    },
    "tags": []
   },
   "source": [
    "### Splitting the dataset into the Training set and Test set"
   ]
  },
  {
   "cell_type": "code",
   "execution_count": 3,
   "id": "69102540",
   "metadata": {
    "execution": {
     "iopub.execute_input": "2022-07-06T01:40:51.565225Z",
     "iopub.status.busy": "2022-07-06T01:40:51.564856Z",
     "iopub.status.idle": "2022-07-06T01:40:52.711175Z",
     "shell.execute_reply": "2022-07-06T01:40:52.709852Z"
    },
    "papermill": {
     "duration": 1.154143,
     "end_time": "2022-07-06T01:40:52.714077",
     "exception": false,
     "start_time": "2022-07-06T01:40:51.559934",
     "status": "completed"
    },
    "tags": []
   },
   "outputs": [],
   "source": [
    "from sklearn.model_selection import train_test_split\n",
    "X_train, X_test, y_train, y_test = train_test_split(X, y, test_size = 1/3, random_state = 0)"
   ]
  },
  {
   "cell_type": "markdown",
   "id": "dc3885a0",
   "metadata": {
    "papermill": {
     "duration": 0.003037,
     "end_time": "2022-07-06T01:40:52.720673",
     "exception": false,
     "start_time": "2022-07-06T01:40:52.717636",
     "status": "completed"
    },
    "tags": []
   },
   "source": [
    "### Feature Scaling"
   ]
  },
  {
   "cell_type": "code",
   "execution_count": 4,
   "id": "afddce67",
   "metadata": {
    "execution": {
     "iopub.execute_input": "2022-07-06T01:40:52.729676Z",
     "iopub.status.busy": "2022-07-06T01:40:52.728945Z",
     "iopub.status.idle": "2022-07-06T01:40:52.738386Z",
     "shell.execute_reply": "2022-07-06T01:40:52.736653Z"
    },
    "papermill": {
     "duration": 0.016962,
     "end_time": "2022-07-06T01:40:52.740977",
     "exception": false,
     "start_time": "2022-07-06T01:40:52.724015",
     "status": "completed"
    },
    "tags": []
   },
   "outputs": [
    {
     "name": "stdout",
     "output_type": "stream",
     "text": [
      "[37436858 32742000 25842697 37199000 38199000 40231758 27093019 33005556\n",
      " 29802321 27504630 31742000 27504630 38506482 32742000 27285000 32742000\n",
      " 25258427 34449964  3635760 32742000  7683360 26000000 27093018 32511623\n",
      " 27739975 27556959 21000000 27285000 27285000  2351838  8113929  6392760\n",
      " 27285000  3500000 27093018 18539130 26131111 28000000 38199000  7830000\n",
      "  6273000 15625000 16896552 32742000 28000000 19500000 33296296 30603448\n",
      " 38506482  2686560  4861207  1974600  4444746  8000000  8556120 17000000\n",
      " 20000000 22615559  6000000 28942830  5300400 12000000 18000000 25595700\n",
      " 25842697  9562920 10605600  6699960 30350000 12553571 18000000 23271604\n",
      "  9757440 14500000 19863636  7265485  9881598  3529554 16000000 27093018\n",
      "  7317074 11301219 17650000 32700690 17799677  4767000 27250576 13486300\n",
      " 10116576 11060000  8730240  3454080  2376840  8719320 24147727 12345680\n",
      "  6534829  2177483 19217900  3952920 17839286 11454546 10500000 12093024\n",
      "  4000000  1559712 12500000 18539130  8349039  9346153 27504630 12900000\n",
      "  7839960 16200000 12776786  8529386  8000000  5201400 13437500 17150000\n",
      " 14057730  4767000  7666667 17185185  2625717 15000000  2321735 12727273\n",
      " 12667885 15625000  6500000 15000000 19894737 15500000 19000000  1948080\n",
      " 13000000  6400920  7068360  9258000  5697600 25565217  2731713  6825000\n",
      "  7339258  4767000  9000000  9346153 14634147 20025127  4160000  4464286\n",
      "  1588231  1882867 14041096  3754885 10259375  3481985  3481985  4764960\n",
      "  4463640 14471910  6481482  5813640  1676735 12200000  7250000  2564753\n",
      "  3500000  7000000  6767000  3755400  1416852  8089282  7815533 13333334\n",
      " 16229213  2564753  3405180  5718000  2636280  7000000  5806440  7059480\n",
      "  4767000 12784359  4380120 11286515  2564753  1737145  1702486  8000000\n",
      "  3389400  2174310 10740740  2564753  1995120  5000000  2320044 12475385\n",
      " 14654179  9473684  5307120  5538540  5453280 19269663  5846154 17000000\n",
      "  4161000  2564753  1618520  5348007  8000000  2875000  1934160  9732396\n",
      "  1737145 10133907  2500000  4767000 15349400  3827160  6004753  1699236\n",
      "  3581986  4767000  5500000  3500000  3500000 12678571  4028400  3709887\n",
      "  1845301  2907143 10000000  4767000  2000000  3551100  3321029  9073050\n",
      "  1870564  3000000  1618520  4000000  4240200  1723050  3000000  2000000\n",
      "  7461380  1678854  3150000  9745200  2578800 11011234  3280920 19428485\n",
      "  1645357 12000000  8000000  2813280  7333333  8664928  6813026  2174318\n",
      " 25102512 10116576   451326  1882867  3377568  1937520  1645357  4862040\n",
      "  4469160  2281800  1618520  2603981  1788296  1618520  1416852  3219480\n",
      "  2320044  2750000  2564753 17818456  9607500  1882867  4000000  1620564\n",
      "  2239200  3540000  3623000 10116000  1620564 15450051  8730158  2028594\n",
      "  4855800  2581965  1618520  1618520  2530680  1000000  6000000 11392857\n",
      "  1897800  4767000 18606556  2764200  1445697  2281800  3640200  2505793\n",
      "  3285120  2478840  4102564  2105520  2429400  1488231  2028594  2487033\n",
      "  2905800  2564753  8156500  1620564  7333333  4767000  2332320  1618520\n",
      " 15643750 12759670  3569643  4000000  4807693  7250000  1737145  1645357\n",
      "   346288  2149560  3058800  2854556  2961120  2391985  3458400  2379840\n",
      "   898310  3831840  3000000  1290960  2833704  2816760  1416852  1416852\n",
      "  2964840  2773550  2582160  4033440  2193480  2689920  1950600   898310\n",
      "  1588231  1416852   250000  1925880  2475840   898310  1645357  1618520\n",
      "  2250000    79568  2028594  1911600  1416852  3567720  1737145  2000000\n",
      "  1416852  2063520  1000000  1400000   898310   898310  1228026   898310\n",
      "  1445697  1416852  1416852  2284800  1962360  1416852  1416852 13290395\n",
      "  1416852  2338846    50000  1416852    79568  1618520 12500000  2033160\n",
      "  1416852   195077  1964760   898310   100000  1445697   898310   898310\n",
      "  1416852   898310    79568  1416852  1529007  1416852  1445697  1427191\n",
      "  1000000    79568   502491   898310  1588231  1416852  1416852  1254933\n",
      "   522738    79568    79568   898310  1416852 41180544 39344900 39344900\n",
      " 44310840 45780966 40918900 35361360 10174391 39344900 31579390]\n"
     ]
    }
   ],
   "source": [
    "from sklearn.preprocessing import StandardScaler\n",
    "sc_X = StandardScaler()\n",
    "sc_y = StandardScaler()\n",
    "# X = sc_X.fit_transform(X_train)\n",
    "# y = sc_y.fit_transform(y)\n",
    "\n",
    "# d.str.replace('$', '')\n",
    "\n",
    "print(y)\n",
    "# dataset['Avg_Annual'].str.replace('$', '')\n",
    "# df1['Avg_Annual'] = df1['Avg_Annual'].astype(int)\n"
   ]
  },
  {
   "cell_type": "code",
   "execution_count": null,
   "id": "5abc2368",
   "metadata": {
    "papermill": {
     "duration": 0.003338,
     "end_time": "2022-07-06T01:40:52.748126",
     "exception": false,
     "start_time": "2022-07-06T01:40:52.744788",
     "status": "completed"
    },
    "tags": []
   },
   "outputs": [],
   "source": []
  }
 ],
 "metadata": {
  "kernelspec": {
   "display_name": "Python 3",
   "language": "python",
   "name": "python3"
  },
  "language_info": {
   "codemirror_mode": {
    "name": "ipython",
    "version": 3
   },
   "file_extension": ".py",
   "mimetype": "text/x-python",
   "name": "python",
   "nbconvert_exporter": "python",
   "pygments_lexer": "ipython3",
   "version": "3.7.12"
  },
  "papermill": {
   "default_parameters": {},
   "duration": 12.561233,
   "end_time": "2022-07-06T01:40:53.474828",
   "environment_variables": {},
   "exception": null,
   "input_path": "__notebook__.ipynb",
   "output_path": "__notebook__.ipynb",
   "parameters": {},
   "start_time": "2022-07-06T01:40:40.913595",
   "version": "2.3.4"
  }
 },
 "nbformat": 4,
 "nbformat_minor": 5
}
